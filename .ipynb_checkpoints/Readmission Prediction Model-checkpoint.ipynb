{
 "cells": [
  {
   "cell_type": "markdown",
   "metadata": {},
   "source": [
    "# Readmission Prediction Project"
   ]
  },
  {
   "cell_type": "markdown",
   "metadata": {},
   "source": [
    "## Project Definition - Project Overview\n",
    "\n",
    "Hospitals often use 30-day readmissions as a measure to evaluate the quality of care provided by the hospital.  The goal of this metric is the reduce the number of 30-day readmissions by as much as possible.  The idea is that 30-day readmissions can be reduced by providing the patient with the appropriate care and the proper instructions on care after discharge.  It is expected that some patients with a higher acuity (sicker) patients have a higher likelihood of being readmitted within 30 days, but reducing readmissions as much as possible results in less unnecessary hospital care and a better overall patient experience.  Governmental agencies such as the Center for Medicare and Medicaid Services (CMS) produce a risk-adjusted rate that enables readmission rate comparison across different hospitals.\n",
    "\n",
    "The project uses the MIMIC-III database that contains deidentified patient data for critical care hospital visits to the Beth Israel Deaconess Medical Center between 2001 and 2012.  In order to access the data, a request must be approved by the MIT Lab for Computational Physiology.\n",
    "\n",
    "## Project Definition - Problem Statement\n",
    "\n",
    "This goal is to create a prediction model that can identify admissions that will result in a non-elective readmission within 30 days of discharge.  The strategy solve this problem is the following:\n",
    "1. Load the MIMIC-III dataset into a PostgresSQL database\n",
    "2. ETL the admission data into a format for machine learning\n",
    "3. Train and test a classification model\n",
    "The final model is expected to be used for future hospital admissions.\n",
    "\n",
    "\n",
    "## Project Definition - Metrics\n",
    "\n",
    "Accuracy is the primary evaluation metric that will be used for this project. A secondary evaluation metric is the Receiver Operating Curve (ROC) Area Under the Curve (AUC) score.  \n",
    "\n",
    "## Methodology - Data Preprocessing\n",
    "\n",
    "### Load the Data\n",
    "\n",
    "The data was loaded into a local PostgreSQL instance and the data was transformed for machine learning purposes.  These are the steps taken using SQL to generate the dataset:\n",
    "\n",
    "1. Aggregated data at the admission level\n",
    "2. Added LOS, emergency hours, icu_stays, age based on the date time fields\n",
    "3. Added primary diagnosis and procedure\n",
    "4. Added primary and secondary diagnosis in another set\n",
    "5. Added the readmitted within 30 days flag\n",
    "6. Added the cancer patient flag"
   ]
  },
  {
   "cell_type": "markdown",
   "metadata": {},
   "source": [
    "### Query the Data"
   ]
  },
  {
   "cell_type": "markdown",
   "metadata": {},
   "source": [
    "The data was queried using the psycopg2 library, which connects to the local PostgresSQL instance.  The data was extract using PL SQL and three datasets was loaded:\n",
    "\n",
    "1.  The primary dataset for machine learning\n",
    "2.  The secondary diagnoses data\n",
    "3.  The secondary procedures data\n",
    "\n",
    "Note: There can be many diagnoses and procedures associated with a single hospital stay.  Diagnosies and procedures are sequenced and the first one is considered the primary.  The others are all considered secondary and a hospital stay can have many secondary diagnoses and procedures."
   ]
  },
  {
   "cell_type": "code",
   "execution_count": 1,
   "metadata": {
    "collapsed": true
   },
   "outputs": [],
   "source": [
    "import psycopg2\n",
    "from sqlalchemy import create_engine\n",
    "import pandas as pd\n",
    "\n",
    "# connect to local postgressql instance\n",
    "conn = psycopg2.connect(host=\"localhost\",database=\"mimic\", user=\"postgres\", password=\"Droid319\", port=5433)\n",
    "\n",
    "# load the primary dataset\n",
    "data_query = open('initial dataset.sql', 'r')\n",
    "data = pd.read_sql_query(data_query.read(), conn)\n",
    "\n",
    "# load the secondary diagnoses and procedures\n",
    "secondary_diag_query = open('secondary diagnoses.sql','r')\n",
    "sec_diag_data = pd.read_sql_query(secondary_diag_query.read(), conn)\n",
    "\n",
    "secondary_proc_query = open('secondary procedures.sql','r')\n",
    "sec_proc_data = pd.read_sql_query(secondary_proc_query.read(), conn)"
   ]
  },
  {
   "cell_type": "markdown",
   "metadata": {},
   "source": [
    "Review the primary dataset to ensure that the data was loaded property."
   ]
  },
  {
   "cell_type": "code",
   "execution_count": 28,
   "metadata": {
    "scrolled": true
   },
   "outputs": [
    {
     "data": {
      "text/html": [
       "<div>\n",
       "<table border=\"1\" class=\"dataframe\">\n",
       "  <thead>\n",
       "    <tr style=\"text-align: right;\">\n",
       "      <th></th>\n",
       "      <th>subject_id</th>\n",
       "      <th>hadm_id</th>\n",
       "      <th>admittime</th>\n",
       "      <th>dischtime</th>\n",
       "      <th>admission_type</th>\n",
       "      <th>admission_location</th>\n",
       "      <th>discharge_location</th>\n",
       "      <th>insurance</th>\n",
       "      <th>language</th>\n",
       "      <th>religion</th>\n",
       "      <th>...</th>\n",
       "      <th>primary_diag</th>\n",
       "      <th>diag_count</th>\n",
       "      <th>proc_count</th>\n",
       "      <th>visits_prior_30_days</th>\n",
       "      <th>non_elective_visits_prior_30_days</th>\n",
       "      <th>visits_prior_year</th>\n",
       "      <th>nonelective_visits_prior_year</th>\n",
       "      <th>cancer_flag</th>\n",
       "      <th>readmitted_flag</th>\n",
       "      <th>hospital_expire_flag</th>\n",
       "    </tr>\n",
       "  </thead>\n",
       "  <tbody>\n",
       "    <tr>\n",
       "      <th>0</th>\n",
       "      <td>2</td>\n",
       "      <td>163353</td>\n",
       "      <td>2138-07-17 19:04:00</td>\n",
       "      <td>2138-07-21 15:48:00</td>\n",
       "      <td>NEWBORN</td>\n",
       "      <td>PHYS REFERRAL/NORMAL DELI</td>\n",
       "      <td>HOME</td>\n",
       "      <td>Private</td>\n",
       "      <td>None</td>\n",
       "      <td>NOT SPECIFIED</td>\n",
       "      <td>...</td>\n",
       "      <td>Single liveborn, born in hospital, delivered b...</td>\n",
       "      <td>3</td>\n",
       "      <td>1.0</td>\n",
       "      <td>0</td>\n",
       "      <td>0</td>\n",
       "      <td>0</td>\n",
       "      <td>0</td>\n",
       "      <td>0</td>\n",
       "      <td>0</td>\n",
       "      <td>0</td>\n",
       "    </tr>\n",
       "    <tr>\n",
       "      <th>1</th>\n",
       "      <td>3</td>\n",
       "      <td>145834</td>\n",
       "      <td>2101-10-20 19:08:00</td>\n",
       "      <td>2101-10-31 13:58:00</td>\n",
       "      <td>EMERGENCY</td>\n",
       "      <td>EMERGENCY ROOM ADMIT</td>\n",
       "      <td>SNF</td>\n",
       "      <td>Medicare</td>\n",
       "      <td>None</td>\n",
       "      <td>CATHOLIC</td>\n",
       "      <td>...</td>\n",
       "      <td>Unspecified septicemia</td>\n",
       "      <td>9</td>\n",
       "      <td>6.0</td>\n",
       "      <td>0</td>\n",
       "      <td>0</td>\n",
       "      <td>0</td>\n",
       "      <td>0</td>\n",
       "      <td>0</td>\n",
       "      <td>0</td>\n",
       "      <td>0</td>\n",
       "    </tr>\n",
       "    <tr>\n",
       "      <th>2</th>\n",
       "      <td>4</td>\n",
       "      <td>185777</td>\n",
       "      <td>2191-03-16 00:28:00</td>\n",
       "      <td>2191-03-23 18:41:00</td>\n",
       "      <td>EMERGENCY</td>\n",
       "      <td>EMERGENCY ROOM ADMIT</td>\n",
       "      <td>HOME WITH HOME IV PROVIDR</td>\n",
       "      <td>Private</td>\n",
       "      <td>None</td>\n",
       "      <td>PROTESTANT QUAKER</td>\n",
       "      <td>...</td>\n",
       "      <td>Human immunodeficiency virus [HIV] disease</td>\n",
       "      <td>9</td>\n",
       "      <td>3.0</td>\n",
       "      <td>0</td>\n",
       "      <td>0</td>\n",
       "      <td>0</td>\n",
       "      <td>0</td>\n",
       "      <td>0</td>\n",
       "      <td>0</td>\n",
       "      <td>0</td>\n",
       "    </tr>\n",
       "    <tr>\n",
       "      <th>3</th>\n",
       "      <td>5</td>\n",
       "      <td>178980</td>\n",
       "      <td>2103-02-02 04:31:00</td>\n",
       "      <td>2103-02-04 12:15:00</td>\n",
       "      <td>NEWBORN</td>\n",
       "      <td>PHYS REFERRAL/NORMAL DELI</td>\n",
       "      <td>HOME</td>\n",
       "      <td>Private</td>\n",
       "      <td>None</td>\n",
       "      <td>BUDDHIST</td>\n",
       "      <td>...</td>\n",
       "      <td>Single liveborn, born in hospital, delivered w...</td>\n",
       "      <td>3</td>\n",
       "      <td>1.0</td>\n",
       "      <td>0</td>\n",
       "      <td>0</td>\n",
       "      <td>0</td>\n",
       "      <td>0</td>\n",
       "      <td>0</td>\n",
       "      <td>0</td>\n",
       "      <td>0</td>\n",
       "    </tr>\n",
       "    <tr>\n",
       "      <th>4</th>\n",
       "      <td>6</td>\n",
       "      <td>107064</td>\n",
       "      <td>2175-05-30 07:15:00</td>\n",
       "      <td>2175-06-15 16:00:00</td>\n",
       "      <td>ELECTIVE</td>\n",
       "      <td>PHYS REFERRAL/NORMAL DELI</td>\n",
       "      <td>HOME HEALTH CARE</td>\n",
       "      <td>Medicare</td>\n",
       "      <td>ENGL</td>\n",
       "      <td>NOT SPECIFIED</td>\n",
       "      <td>...</td>\n",
       "      <td>Hypertensive chronic kidney disease, unspecifi...</td>\n",
       "      <td>8</td>\n",
       "      <td>5.0</td>\n",
       "      <td>0</td>\n",
       "      <td>0</td>\n",
       "      <td>0</td>\n",
       "      <td>0</td>\n",
       "      <td>0</td>\n",
       "      <td>0</td>\n",
       "      <td>0</td>\n",
       "    </tr>\n",
       "  </tbody>\n",
       "</table>\n",
       "<p>5 rows × 31 columns</p>\n",
       "</div>"
      ],
      "text/plain": [
       "   subject_id  hadm_id           admittime           dischtime admission_type  \\\n",
       "0           2   163353 2138-07-17 19:04:00 2138-07-21 15:48:00        NEWBORN   \n",
       "1           3   145834 2101-10-20 19:08:00 2101-10-31 13:58:00      EMERGENCY   \n",
       "2           4   185777 2191-03-16 00:28:00 2191-03-23 18:41:00      EMERGENCY   \n",
       "3           5   178980 2103-02-02 04:31:00 2103-02-04 12:15:00        NEWBORN   \n",
       "4           6   107064 2175-05-30 07:15:00 2175-06-15 16:00:00       ELECTIVE   \n",
       "\n",
       "          admission_location         discharge_location insurance language  \\\n",
       "0  PHYS REFERRAL/NORMAL DELI                       HOME   Private     None   \n",
       "1       EMERGENCY ROOM ADMIT                        SNF  Medicare     None   \n",
       "2       EMERGENCY ROOM ADMIT  HOME WITH HOME IV PROVIDR   Private     None   \n",
       "3  PHYS REFERRAL/NORMAL DELI                       HOME   Private     None   \n",
       "4  PHYS REFERRAL/NORMAL DELI           HOME HEALTH CARE  Medicare     ENGL   \n",
       "\n",
       "            religion          ...           \\\n",
       "0      NOT SPECIFIED          ...            \n",
       "1           CATHOLIC          ...            \n",
       "2  PROTESTANT QUAKER          ...            \n",
       "3           BUDDHIST          ...            \n",
       "4      NOT SPECIFIED          ...            \n",
       "\n",
       "                                        primary_diag diag_count proc_count  \\\n",
       "0  Single liveborn, born in hospital, delivered b...          3        1.0   \n",
       "1                             Unspecified septicemia          9        6.0   \n",
       "2         Human immunodeficiency virus [HIV] disease          9        3.0   \n",
       "3  Single liveborn, born in hospital, delivered w...          3        1.0   \n",
       "4  Hypertensive chronic kidney disease, unspecifi...          8        5.0   \n",
       "\n",
       "  visits_prior_30_days  non_elective_visits_prior_30_days  visits_prior_year  \\\n",
       "0                    0                                  0                  0   \n",
       "1                    0                                  0                  0   \n",
       "2                    0                                  0                  0   \n",
       "3                    0                                  0                  0   \n",
       "4                    0                                  0                  0   \n",
       "\n",
       "  nonelective_visits_prior_year cancer_flag  readmitted_flag  \\\n",
       "0                             0           0                0   \n",
       "1                             0           0                0   \n",
       "2                             0           0                0   \n",
       "3                             0           0                0   \n",
       "4                             0           0                0   \n",
       "\n",
       "   hospital_expire_flag  \n",
       "0                     0  \n",
       "1                     0  \n",
       "2                     0  \n",
       "3                     0  \n",
       "4                     0  \n",
       "\n",
       "[5 rows x 31 columns]"
      ]
     },
     "execution_count": 28,
     "metadata": {},
     "output_type": "execute_result"
    }
   ],
   "source": [
    "data.head(5)"
   ]
  },
  {
   "cell_type": "markdown",
   "metadata": {},
   "source": [
    "### Data Transformation\n",
    "\n",
    "Remove the subject_id, admittime, dischtime, and dob fields since these fields are not required or useful. For the time fields, the scrambling of the data makes it impossible to determine the sequence of hospital admissions.  \n",
    "\n",
    "For the language, ethnicity, and religion fields, it would not be appropriate to analyze patients using this data.  The diagnosis field was removed since the primary and secondary diagnoses data will replace this field since this field appears free-form text."
   ]
  },
  {
   "cell_type": "code",
   "execution_count": 29,
   "metadata": {
    "collapsed": true
   },
   "outputs": [],
   "source": [
    "data = data.drop(['subject_id','admittime','dischtime','language','ethnicity','religion','diagnosis','dob'], axis = 1)"
   ]
  },
  {
   "cell_type": "markdown",
   "metadata": {},
   "source": [
    "Review the statistics for the numeric variables."
   ]
  },
  {
   "cell_type": "code",
   "execution_count": 30,
   "metadata": {},
   "outputs": [
    {
     "data": {
      "text/html": [
       "<div>\n",
       "<table border=\"1\" class=\"dataframe\">\n",
       "  <thead>\n",
       "    <tr style=\"text-align: right;\">\n",
       "      <th></th>\n",
       "      <th>hadm_id</th>\n",
       "      <th>los_days</th>\n",
       "      <th>emergency_hours</th>\n",
       "      <th>age</th>\n",
       "      <th>icu_days</th>\n",
       "      <th>diag_count</th>\n",
       "      <th>proc_count</th>\n",
       "      <th>visits_prior_30_days</th>\n",
       "      <th>non_elective_visits_prior_30_days</th>\n",
       "      <th>visits_prior_year</th>\n",
       "      <th>nonelective_visits_prior_year</th>\n",
       "      <th>cancer_flag</th>\n",
       "      <th>readmitted_flag</th>\n",
       "      <th>hospital_expire_flag</th>\n",
       "    </tr>\n",
       "  </thead>\n",
       "  <tbody>\n",
       "    <tr>\n",
       "      <th>count</th>\n",
       "      <td>58916.000000</td>\n",
       "      <td>58916.000000</td>\n",
       "      <td>30875.000000</td>\n",
       "      <td>58916.000000</td>\n",
       "      <td>57771.000000</td>\n",
       "      <td>58916.000000</td>\n",
       "      <td>52228.000000</td>\n",
       "      <td>58916.000000</td>\n",
       "      <td>58916.000000</td>\n",
       "      <td>58916.000000</td>\n",
       "      <td>58916.000000</td>\n",
       "      <td>58916.000000</td>\n",
       "      <td>58916.000000</td>\n",
       "      <td>58916.000000</td>\n",
       "    </tr>\n",
       "    <tr>\n",
       "      <th>mean</th>\n",
       "      <td>149972.796524</td>\n",
       "      <td>10.122926</td>\n",
       "      <td>0.491087</td>\n",
       "      <td>64.053415</td>\n",
       "      <td>5.237194</td>\n",
       "      <td>11.047984</td>\n",
       "      <td>4.596443</td>\n",
       "      <td>0.449148</td>\n",
       "      <td>0.406392</td>\n",
       "      <td>0.449148</td>\n",
       "      <td>0.406392</td>\n",
       "      <td>0.055656</td>\n",
       "      <td>0.055605</td>\n",
       "      <td>0.098785</td>\n",
       "    </tr>\n",
       "    <tr>\n",
       "      <th>std</th>\n",
       "      <td>28882.691615</td>\n",
       "      <td>12.459323</td>\n",
       "      <td>0.289631</td>\n",
       "      <td>57.204052</td>\n",
       "      <td>10.114270</td>\n",
       "      <td>6.463037</td>\n",
       "      <td>3.823837</td>\n",
       "      <td>1.540330</td>\n",
       "      <td>1.509284</td>\n",
       "      <td>1.540330</td>\n",
       "      <td>1.509284</td>\n",
       "      <td>0.229257</td>\n",
       "      <td>0.229158</td>\n",
       "      <td>0.298375</td>\n",
       "    </tr>\n",
       "    <tr>\n",
       "      <th>min</th>\n",
       "      <td>100001.000000</td>\n",
       "      <td>-0.916667</td>\n",
       "      <td>-0.966667</td>\n",
       "      <td>0.000000</td>\n",
       "      <td>0.000200</td>\n",
       "      <td>0.000000</td>\n",
       "      <td>1.000000</td>\n",
       "      <td>0.000000</td>\n",
       "      <td>0.000000</td>\n",
       "      <td>0.000000</td>\n",
       "      <td>0.000000</td>\n",
       "      <td>0.000000</td>\n",
       "      <td>0.000000</td>\n",
       "      <td>0.000000</td>\n",
       "    </tr>\n",
       "    <tr>\n",
       "      <th>25%</th>\n",
       "      <td>124953.750000</td>\n",
       "      <td>3.750000</td>\n",
       "      <td>0.233333</td>\n",
       "      <td>43.000000</td>\n",
       "      <td>1.122500</td>\n",
       "      <td>7.000000</td>\n",
       "      <td>2.000000</td>\n",
       "      <td>0.000000</td>\n",
       "      <td>0.000000</td>\n",
       "      <td>0.000000</td>\n",
       "      <td>0.000000</td>\n",
       "      <td>0.000000</td>\n",
       "      <td>0.000000</td>\n",
       "      <td>0.000000</td>\n",
       "    </tr>\n",
       "    <tr>\n",
       "      <th>50%</th>\n",
       "      <td>149988.500000</td>\n",
       "      <td>6.458333</td>\n",
       "      <td>0.483333</td>\n",
       "      <td>61.000000</td>\n",
       "      <td>2.150200</td>\n",
       "      <td>9.000000</td>\n",
       "      <td>3.000000</td>\n",
       "      <td>0.000000</td>\n",
       "      <td>0.000000</td>\n",
       "      <td>0.000000</td>\n",
       "      <td>0.000000</td>\n",
       "      <td>0.000000</td>\n",
       "      <td>0.000000</td>\n",
       "      <td>0.000000</td>\n",
       "    </tr>\n",
       "    <tr>\n",
       "      <th>75%</th>\n",
       "      <td>174968.500000</td>\n",
       "      <td>11.791667</td>\n",
       "      <td>0.750000</td>\n",
       "      <td>75.000000</td>\n",
       "      <td>4.878050</td>\n",
       "      <td>15.000000</td>\n",
       "      <td>6.000000</td>\n",
       "      <td>0.000000</td>\n",
       "      <td>0.000000</td>\n",
       "      <td>0.000000</td>\n",
       "      <td>0.000000</td>\n",
       "      <td>0.000000</td>\n",
       "      <td>0.000000</td>\n",
       "      <td>0.000000</td>\n",
       "    </tr>\n",
       "    <tr>\n",
       "      <th>max</th>\n",
       "      <td>199999.000000</td>\n",
       "      <td>294.625000</td>\n",
       "      <td>0.983333</td>\n",
       "      <td>311.000000</td>\n",
       "      <td>260.708900</td>\n",
       "      <td>39.000000</td>\n",
       "      <td>40.000000</td>\n",
       "      <td>41.000000</td>\n",
       "      <td>41.000000</td>\n",
       "      <td>41.000000</td>\n",
       "      <td>41.000000</td>\n",
       "      <td>1.000000</td>\n",
       "      <td>1.000000</td>\n",
       "      <td>1.000000</td>\n",
       "    </tr>\n",
       "  </tbody>\n",
       "</table>\n",
       "</div>"
      ],
      "text/plain": [
       "             hadm_id      los_days  emergency_hours           age  \\\n",
       "count   58916.000000  58916.000000     30875.000000  58916.000000   \n",
       "mean   149972.796524     10.122926         0.491087     64.053415   \n",
       "std     28882.691615     12.459323         0.289631     57.204052   \n",
       "min    100001.000000     -0.916667        -0.966667      0.000000   \n",
       "25%    124953.750000      3.750000         0.233333     43.000000   \n",
       "50%    149988.500000      6.458333         0.483333     61.000000   \n",
       "75%    174968.500000     11.791667         0.750000     75.000000   \n",
       "max    199999.000000    294.625000         0.983333    311.000000   \n",
       "\n",
       "           icu_days    diag_count    proc_count  visits_prior_30_days  \\\n",
       "count  57771.000000  58916.000000  52228.000000          58916.000000   \n",
       "mean       5.237194     11.047984      4.596443              0.449148   \n",
       "std       10.114270      6.463037      3.823837              1.540330   \n",
       "min        0.000200      0.000000      1.000000              0.000000   \n",
       "25%        1.122500      7.000000      2.000000              0.000000   \n",
       "50%        2.150200      9.000000      3.000000              0.000000   \n",
       "75%        4.878050     15.000000      6.000000              0.000000   \n",
       "max      260.708900     39.000000     40.000000             41.000000   \n",
       "\n",
       "       non_elective_visits_prior_30_days  visits_prior_year  \\\n",
       "count                       58916.000000       58916.000000   \n",
       "mean                            0.406392           0.449148   \n",
       "std                             1.509284           1.540330   \n",
       "min                             0.000000           0.000000   \n",
       "25%                             0.000000           0.000000   \n",
       "50%                             0.000000           0.000000   \n",
       "75%                             0.000000           0.000000   \n",
       "max                            41.000000          41.000000   \n",
       "\n",
       "       nonelective_visits_prior_year   cancer_flag  readmitted_flag  \\\n",
       "count                   58916.000000  58916.000000     58916.000000   \n",
       "mean                        0.406392      0.055656         0.055605   \n",
       "std                         1.509284      0.229257         0.229158   \n",
       "min                         0.000000      0.000000         0.000000   \n",
       "25%                         0.000000      0.000000         0.000000   \n",
       "50%                         0.000000      0.000000         0.000000   \n",
       "75%                         0.000000      0.000000         0.000000   \n",
       "max                        41.000000      1.000000         1.000000   \n",
       "\n",
       "       hospital_expire_flag  \n",
       "count          58916.000000  \n",
       "mean               0.098785  \n",
       "std                0.298375  \n",
       "min                0.000000  \n",
       "25%                0.000000  \n",
       "50%                0.000000  \n",
       "75%                0.000000  \n",
       "max                1.000000  "
      ]
     },
     "execution_count": 30,
     "metadata": {},
     "output_type": "execute_result"
    }
   ],
   "source": [
    "data.describe()"
   ]
  },
  {
   "cell_type": "markdown",
   "metadata": {},
   "source": [
    "The emergency_hours, icu_days, and proc_count fields contain NaNs.  Since the record counts are lower than the other fields.\n",
    "\n",
    "Replace the NaNs with zeros."
   ]
  },
  {
   "cell_type": "code",
   "execution_count": 31,
   "metadata": {
    "collapsed": true
   },
   "outputs": [],
   "source": [
    "data['emergency_hours'] = data['emergency_hours'].fillna(0)\n",
    "data['icu_days'] = data['icu_days'].fillna(0)\n",
    "data['proc_count'] = data['proc_count'].fillna(0)"
   ]
  },
  {
   "cell_type": "markdown",
   "metadata": {},
   "source": [
    "The los_days and emergency_hours fields contain negative values, which should not happen since a patient cannot stay for a negative amount of time.  It is assumed that this is simply bad data resulting from the date/time scrambling.\n",
    "\n",
    "Review these negative values and then remove them from the dataset."
   ]
  },
  {
   "cell_type": "code",
   "execution_count": 32,
   "metadata": {},
   "outputs": [
    {
     "name": "stdout",
     "output_type": "stream",
     "text": [
      "The number of los_days with negative values:\n",
      "The number of records with negative values for los_days: 82\n",
      "The number of reocrds with negative values for emergency hours: 17\n"
     ]
    }
   ],
   "source": [
    "print('The number of los_days with negative values:')\n",
    "print('The number of records with negative values for los_days: ' +  str(data[data['los_days'] < 0]['los_days'].count()))\n",
    "print('The number of reocrds with negative values for emergency hours: ' + str(data[data['emergency_hours'] < 0]['los_days'].count()))\n",
    "data = data[data['los_days'] >=0]\n",
    "data = data[data['emergency_hours'] >=0]"
   ]
  },
  {
   "cell_type": "markdown",
   "metadata": {},
   "source": [
    "Review the statistic to confirm that the changes have been made."
   ]
  },
  {
   "cell_type": "code",
   "execution_count": 33,
   "metadata": {},
   "outputs": [
    {
     "name": "stdout",
     "output_type": "stream",
     "text": [
      "             hadm_id      los_days  emergency_hours           age  \\\n",
      "count   58817.000000  58817.000000     58817.000000  58817.000000   \n",
      "mean   149972.526191     10.137425         0.257538     64.045905   \n",
      "std     28883.201189     12.462009         0.322408     57.201009   \n",
      "min    100001.000000      0.000000         0.000000      0.000000   \n",
      "25%    124952.000000      3.750000         0.000000     43.000000   \n",
      "50%    149994.000000      6.458333         0.033333     61.000000   \n",
      "75%    174968.000000     11.791667         0.516667     75.000000   \n",
      "max    199999.000000    294.625000         0.983333    311.000000   \n",
      "\n",
      "           icu_days    diag_count    proc_count  visits_prior_30_days  \\\n",
      "count  58817.000000  58817.000000  58817.000000          58817.000000   \n",
      "mean       5.141673     11.053896      4.075403              0.448323   \n",
      "std       10.047554      6.464998      3.885134              1.541342   \n",
      "min        0.000000      0.000000      0.000000              0.000000   \n",
      "25%        1.090200      7.000000      1.000000              0.000000   \n",
      "50%        2.109300      9.000000      3.000000              0.000000   \n",
      "75%        4.789700     15.000000      6.000000              0.000000   \n",
      "max      260.708900     39.000000     40.000000             41.000000   \n",
      "\n",
      "       non_elective_visits_prior_30_days  visits_prior_year  \\\n",
      "count                       58817.000000       58817.000000   \n",
      "mean                            0.405580           0.448323   \n",
      "std                             1.510256           1.541342   \n",
      "min                             0.000000           0.000000   \n",
      "25%                             0.000000           0.000000   \n",
      "50%                             0.000000           0.000000   \n",
      "75%                             0.000000           0.000000   \n",
      "max                            41.000000          41.000000   \n",
      "\n",
      "       nonelective_visits_prior_year   cancer_flag  readmitted_flag  \\\n",
      "count                   58817.000000  58817.000000     58817.000000   \n",
      "mean                        0.405580      0.055698         0.055681   \n",
      "std                         1.510256      0.229340         0.229307   \n",
      "min                         0.000000      0.000000         0.000000   \n",
      "25%                         0.000000      0.000000         0.000000   \n",
      "50%                         0.000000      0.000000         0.000000   \n",
      "75%                         0.000000      0.000000         0.000000   \n",
      "max                        41.000000      1.000000         1.000000   \n",
      "\n",
      "       hospital_expire_flag  \n",
      "count          58817.000000  \n",
      "mean               0.097761  \n",
      "std                0.296994  \n",
      "min                0.000000  \n",
      "25%                0.000000  \n",
      "50%                0.000000  \n",
      "75%                0.000000  \n",
      "max                1.000000  \n"
     ]
    }
   ],
   "source": [
    "# Review that all nans have been removed\n",
    "print(data.describe())"
   ]
  },
  {
   "cell_type": "markdown",
   "metadata": {},
   "source": [
    "There is one peculiar observation is that the max age is 311, which is unrealistic.  \n",
    "\n",
    "Replace these max ages with the median."
   ]
  },
  {
   "cell_type": "code",
   "execution_count": 34,
   "metadata": {
    "collapsed": true
   },
   "outputs": [],
   "source": [
    "age_median = data[data['age'] < 150]['age'].median()\n",
    "data['age'] = data['age'].apply(lambda x: age_median if x > 150 else x)"
   ]
  },
  {
   "cell_type": "markdown",
   "metadata": {},
   "source": [
    "Special characters are removed from the primary_diag, primary_proc, admission_location, discharge_location, and drg fields.  This ensures that there will be no issues with the machine learning algorithms later."
   ]
  },
  {
   "cell_type": "code",
   "execution_count": 35,
   "metadata": {
    "collapsed": true
   },
   "outputs": [],
   "source": [
    "import re\n",
    "\n",
    "data['admission_location'] = data['admission_location'].apply(lambda x : re.sub('[^a-zA-Z0-9-_*.]', '', str(x)))\n",
    "data['discharge_location'] = data['discharge_location'].apply(lambda x : re.sub('[^a-zA-Z0-9-_*.]', '', str(x)))\n",
    "data['drg'] = data['drg'].apply(lambda x : re.sub('[^a-zA-Z0-9-_*.]', '', str(x)))\n",
    "data['primary_diag'] = data['primary_diag'].apply(lambda x : re.sub('[^a-zA-Z0-9-_*.]', '', str(x)))\n",
    "data['primary_proc'] = data['primary_proc'].apply(lambda x : re.sub('[^a-zA-Z0-9-_*.]', '', str(x)))"
   ]
  },
  {
   "cell_type": "markdown",
   "metadata": {},
   "source": [
    "Remove hospital stays for newborn, cancer patients, and expired patients."
   ]
  },
  {
   "cell_type": "code",
   "execution_count": 36,
   "metadata": {
    "collapsed": true
   },
   "outputs": [],
   "source": [
    "data = data[data['admission_type'] != 'NEWBORN']\n",
    "data = data[data['hospital_expire_flag'] == 0]\n",
    "data = data[data['cancer_flag'] == 0]"
   ]
  },
  {
   "cell_type": "markdown",
   "metadata": {},
   "source": [
    "## Analysis - Data Exploration & Data Visualization"
   ]
  },
  {
   "cell_type": "markdown",
   "metadata": {},
   "source": [
    "This shows that patients who are admitted via the emergency room have a higher tendency to be readmitted 30 days after discharge.  This may be due to poor access to healthcare or the patient's acuity (sickness) is high."
   ]
  },
  {
   "cell_type": "code",
   "execution_count": 37,
   "metadata": {
    "scrolled": true
   },
   "outputs": [
    {
     "name": "stdout",
     "output_type": "stream",
     "text": [
      "admission_type\n",
      "EMERGENCY    0.072734\n",
      "URGENT       0.048257\n",
      "ELECTIVE     0.039270\n",
      "Name: readmitted_flag, dtype: float64\n"
     ]
    }
   ],
   "source": [
    "admissiontype_groupby = data.groupby(['admission_type'])['readmitted_flag'].sum() / data.groupby(['admission_type'])['readmitted_flag'].count()\n",
    "\n",
    "print(admissiontype_groupby.sort_values(ascending=0))"
   ]
  },
  {
   "cell_type": "markdown",
   "metadata": {},
   "source": [
    "This shows that patients who are discharged to a long-term care hospital or leave against medical advice, or rehab facility have a higher tendency to be readmitted.  It makes sense that patients who leave against medical advice have a higher tendency to be readmitted since the patients were not able to receive the full treatment."
   ]
  },
  {
   "cell_type": "code",
   "execution_count": 38,
   "metadata": {},
   "outputs": [
    {
     "name": "stdout",
     "output_type": "stream",
     "text": [
      "discharge_location\n",
      "LONGTERMCAREHOSPITAL       0.147032\n",
      "LEFTAGAINSTMEDICALADVI     0.123944\n",
      "REHABDISTINCTPARTHOSP      0.088187\n",
      "SNF                        0.084521\n",
      "ICF                        0.065217\n",
      "OTHERFACILITY              0.063492\n",
      "HOMEHEALTHCARE             0.060847\n",
      "HOMEWITHHOMEIVPROVIDR      0.050000\n",
      "DISC-TRANCANCERCHLDRNH     0.047096\n",
      "SHORTTERMHOSPITAL          0.045175\n",
      "HOME                       0.042902\n",
      "HOSPICE-HOME               0.023490\n",
      "DISCH-TRANTOPSYCHHOSP      0.022422\n",
      "SNF-MEDICAIDONLYCERTIF     0.000000\n",
      "HOSPICE-MEDICALFACILITY    0.000000\n",
      "DISC-TRANTOFEDERALHC       0.000000\n",
      "Name: readmitted_flag, dtype: float64\n"
     ]
    }
   ],
   "source": [
    "discharge_groupby = data.groupby(['discharge_location'])['readmitted_flag'].sum() / data.groupby(['discharge_location'])['readmitted_flag'].count()\n",
    "\n",
    "print(discharge_groupby.sort_values(ascending=0))"
   ]
  },
  {
   "cell_type": "markdown",
   "metadata": {},
   "source": [
    "This shows that Medicare have the highest tendency to be readmitted, but this may be age related since patients who have Medicare are typically over the age of 65."
   ]
  },
  {
   "cell_type": "code",
   "execution_count": 39,
   "metadata": {},
   "outputs": [
    {
     "name": "stdout",
     "output_type": "stream",
     "text": [
      "insurance\n",
      "Medicaid      0.082254\n",
      "Medicare      0.079304\n",
      "Private       0.047378\n",
      "Government    0.036537\n",
      "Self Pay      0.016985\n",
      "Name: readmitted_flag, dtype: float64\n"
     ]
    }
   ],
   "source": [
    "insurance_groupby = data.groupby(['insurance'])['readmitted_flag'].sum() / data.groupby(['insurance'])['readmitted_flag'].count()\n",
    "\n",
    "print(insurance_groupby.sort_values(ascending=0))"
   ]
  },
  {
   "cell_type": "markdown",
   "metadata": {},
   "source": [
    "This shows that there is a high spike for readmissions for patients aged 24, but the majority of other ages are within 4% to 8%.  The expectation was that older people who generally have higher acuity would be readmitted at a higher rate."
   ]
  },
  {
   "cell_type": "code",
   "execution_count": 40,
   "metadata": {},
   "outputs": [
    {
     "data": {
      "text/plain": [
       "<matplotlib.axes._subplots.AxesSubplot at 0x277da91cc50>"
      ]
     },
     "execution_count": 40,
     "metadata": {},
     "output_type": "execute_result"
    },
    {
     "data": {
      "image/png": "[encoded data removed]",
      "text/plain": [
       "<matplotlib.figure.Figure at 0x277da929ac8>"
      ]
     },
     "metadata": {},
     "output_type": "display_data"
    }
   ],
   "source": [
    "%matplotlib inline\n",
    "\n",
    "import matplotlib\n",
    "import numpy as np\n",
    "import matplotlib.pyplot as plt\n",
    "import seaborn as sns\n",
    "\n",
    "age_groupby = data.groupby(['age'])['readmitted_flag'].sum() / data.groupby(['age'])['readmitted_flag'].count()\n",
    "\n",
    "age_groupby.plot(kind='line')"
   ]
  },
  {
   "cell_type": "markdown",
   "metadata": {},
   "source": [
    "This shows that older people tend to be admitted more.  It shows that there is a data quality issue with age, which the imputation has made more prevalent."
   ]
  },
  {
   "cell_type": "code",
   "execution_count": 41,
   "metadata": {},
   "outputs": [
    {
     "data": {
      "text/plain": [
       "<matplotlib.axes._subplots.AxesSubplot at 0x277d1331c18>"
      ]
     },
     "execution_count": 41,
     "metadata": {},
     "output_type": "execute_result"
    },
    {
     "data": {
      "image/png": "[encoded data removed]",
      "text/plain": [
       "<matplotlib.figure.Figure at 0x277dbd5ccc0>"
      ]
     },
     "metadata": {},
     "output_type": "display_data"
    }
   ],
   "source": [
    "data.groupby(['age'])['readmitted_flag'].count().plot(kind='line')"
   ]
  },
  {
   "cell_type": "markdown",
   "metadata": {},
   "source": [
    "This shows that married people have a lower tendency of being readmitted versus single and widowed patients"
   ]
  },
  {
   "cell_type": "code",
   "execution_count": 42,
   "metadata": {},
   "outputs": [
    {
     "data": {
      "text/plain": [
       "marital_status\n",
       "SEPARATED            0.101031\n",
       "SINGLE               0.074984\n",
       "DIVORCED             0.074334\n",
       "WIDOWED              0.069771\n",
       "MARRIED              0.065024\n",
       "UNKNOWN (DEFAULT)    0.041045\n",
       "LIFE PARTNER         0.000000\n",
       "Name: readmitted_flag, dtype: float64"
      ]
     },
     "execution_count": 42,
     "metadata": {},
     "output_type": "execute_result"
    }
   ],
   "source": [
    "maritalstatus_groupby = data.groupby(['marital_status'])['readmitted_flag'].sum() / data.groupby(['marital_status'])['readmitted_flag'].count()\n",
    "\n",
    "maritalstatus_groupby.sort_values(ascending=0)"
   ]
  },
  {
   "cell_type": "markdown",
   "metadata": {},
   "source": [
    "The data analysis shows that there is not a definite chararactistics that are strongly correlated with readmissions, but there are some patterns that may be used to predict readmissions."
   ]
  },
  {
   "cell_type": "markdown",
   "metadata": {},
   "source": [
    "Correleation Test\n",
    "\n",
    "The correlation test using the non-categorical variables within the dataset shows that the correlation of the variables are relatively low compared to the readmitted_flag.  The variables were the most correlated are the visits_prior_30_days, non_elective_visits_prior_30_days, visits_prior_year, and nonelective_visits_prior_year.  All four variables had a correlation value of 0.17."
   ]
  },
  {
   "cell_type": "code",
   "execution_count": 43,
   "metadata": {},
   "outputs": [
    {
     "data": {
      "text/plain": [
       "<matplotlib.axes._subplots.AxesSubplot at 0x2778945bbe0>"
      ]
     },
     "execution_count": 43,
     "metadata": {},
     "output_type": "execute_result"
    },
    {
     "data": {
      "image/png": "[encoded data removed]",
      "text/plain": [
       "<matplotlib.figure.Figure at 0x277ccf7de48>"
      ]
     },
     "metadata": {},
     "output_type": "display_data"
    }
   ],
   "source": [
    "sns.heatmap(data[['los_days','emergency_hours','age','icu_days','diag_count','proc_count','visits_prior_30_days','non_elective_visits_prior_30_days','visits_prior_year','nonelective_visits_prior_year','readmitted_flag']].corr(), annot=True, fmt=\".2f\")"
   ]
  },
  {
   "cell_type": "markdown",
   "metadata": {},
   "source": [
    "This shows that the top 10 primary diagnoses for readmitted patients.  As expected, these diagnoses are inline with high acuity.  As expected, high acuity diagnosis such as septicemia (sepsis), respiratory failure, and heart related diagnoses are contained in the top 10."
   ]
  },
  {
   "cell_type": "code",
   "execution_count": 44,
   "metadata": {},
   "outputs": [
    {
     "data": {
      "text/plain": [
       "primary_diag\n",
       "Unspecifiedsepticemia                            136\n",
       "Acuterespiratoryfailure                          112\n",
       "Coronaryatherosclerosisofnativecoronaryartery    106\n",
       "Subendocardialinfarctioninitialepisodeofcare      72\n",
       "Pneumoniaorganismunspecified                      54\n",
       "Congestiveheartfailureunspecified                 48\n",
       "Aorticvalvedisorders                              47\n",
       "Acuteonchronicsystolicheartfailure                45\n",
       "Pneumonitisduetoinhalationoffoodorvomitus         42\n",
       "Hemorrhageofgastrointestinaltractunspecified      39\n",
       "Name: readmitted_flag, dtype: int64"
      ]
     },
     "execution_count": 44,
     "metadata": {},
     "output_type": "execute_result"
    }
   ],
   "source": [
    "primarydiag_groupby = data.groupby(['primary_diag'])['readmitted_flag'].sum()\n",
    "\n",
    "primarydiag_groupby.sort_values(ascending=0).head(10)"
   ]
  },
  {
   "cell_type": "markdown",
   "metadata": {},
   "source": [
    "Also, the top 10 primary diag based on readmission % with more than 50 admissions.  The results are similiar to the top 10 by count."
   ]
  },
  {
   "cell_type": "code",
   "execution_count": 45,
   "metadata": {},
   "outputs": [
    {
     "data": {
      "text/plain": [
       "primary_diag\n",
       "HypertensivechronickidneydiseasemalignantwithchronickidneydiseasestageVorendstagerenaldisease      0.393617\n",
       "Otherandunspecifiedinfectionduetocentralvenouscatheter                                             0.242857\n",
       "Acuteonchroniccombinedsystolicanddiastolicheartfailure                                             0.175258\n",
       "Acuteandchronicrespiratoryfailure                                                                  0.174603\n",
       "Acuteonchronicsystolicheartfailure                                                                 0.172414\n",
       "Hypotensionunspecified                                                                             0.168675\n",
       "HypertensivechronickidneydiseaseunspecifiedwithchronickidneydiseasestageVorendstagerenaldisease    0.160000\n",
       "Cirrhosisofliverwithoutmentionofalcohol                                                            0.157534\n",
       "Hepaticencephalopathy                                                                              0.152174\n",
       "Obstructivechronicbronchitiswithacuteexacerbation                                                  0.150407\n",
       "Name: readmitted_flag, dtype: float64"
      ]
     },
     "execution_count": 45,
     "metadata": {},
     "output_type": "execute_result"
    }
   ],
   "source": [
    "primarydiag_greaterby_groupby = data.groupby(['primary_diag'])['readmitted_flag'].count()\n",
    "primarydiag_greaterby_groupby = list(primarydiag_greaterby_groupby.where(primarydiag_greaterby_groupby>50).dropna().index)\n",
    "\n",
    "primarydiag_readmission_groupby = data[data['primary_diag'].isin(primarydiag_greaterby_groupby)].groupby(['primary_diag'])['readmitted_flag'].sum()/data[data['primary_diag'].isin(primarydiag_greaterby_groupby)].groupby(['primary_diag'])['readmitted_flag'].count()\n",
    "primarydiag_readmission_groupby.sort_values(ascending=0).head(10)"
   ]
  },
  {
   "cell_type": "markdown",
   "metadata": {},
   "source": [
    "This shows that the top 10 primary procedures for readmitted patients.  As expected, the top procedures are intensive procedures."
   ]
  },
  {
   "cell_type": "code",
   "execution_count": 46,
   "metadata": {},
   "outputs": [
    {
     "data": {
      "text/plain": [
       "primary_proc\n",
       "None                                                                    341\n",
       "Continuousinvasivemechanicalventilationforlessthan96consecutivehours    180\n",
       "Venouscatheterizationnotelsewhereclassified                             162\n",
       "Temporarytracheostomy                                                   117\n",
       "Hemodialysis                                                            112\n",
       "Continuousinvasivemechanicalventilationfor96consecutivehoursormore      109\n",
       "Otherendoscopyofsmallintestine                                           68\n",
       "Openandotherreplacementofaorticvalvewithtissuegraft                      54\n",
       "Percutaneousabdominaldrainage                                            40\n",
       "Insertionofendotrachealtube                                              40\n",
       "Name: readmitted_flag, dtype: int64"
      ]
     },
     "execution_count": 46,
     "metadata": {},
     "output_type": "execute_result"
    }
   ],
   "source": [
    "primaryproc_groupby = data.groupby(['primary_proc'])['readmitted_flag'].sum()\n",
    "\n",
    "primaryproc_groupby.sort_values(ascending=0).head(10)"
   ]
  },
  {
   "cell_type": "markdown",
   "metadata": {},
   "source": [
    "This shows the top 10 drg for readmitted patients.  The results mirror the top 10 diagnoses where septicemia and other high acuity illnesses are at the top of the readmission count by drg."
   ]
  },
  {
   "cell_type": "code",
   "execution_count": 47,
   "metadata": {
    "scrolled": true
   },
   "outputs": [
    {
     "data": {
      "text/plain": [
       "drg\n",
       "SepticemiaDisseminatedInfections                                  131\n",
       "HeartFailure                                                       83\n",
       "PulmonaryEdemaRespiratoryFailure                                   66\n",
       "TracheostomyWLongTermMechanicalVentilationWExtensiveProcedure      63\n",
       "RenalFailure                                                       62\n",
       "TracheostomyWLongTermMechanicalVentilationWOExtensiveProcedure     51\n",
       "CardiacValveProcedureswoCardiacCatheterization                     49\n",
       "MajorRespiratoryInfectionsInflammations                            45\n",
       "RESPIRATORYSYSTEMDIAGNOSISWITHVENTILATORSUPPORT                    42\n",
       "OtherPneumonia                                                     39\n",
       "Name: readmitted_flag, dtype: int64"
      ]
     },
     "execution_count": 47,
     "metadata": {},
     "output_type": "execute_result"
    }
   ],
   "source": [
    "drg_groupby = data.groupby(['drg'])['readmitted_flag'].sum()\n",
    "\n",
    "drg_groupby.sort_values(ascending=0).head(10)"
   ]
  },
  {
   "cell_type": "markdown",
   "metadata": {},
   "source": [
    "Also, the top 10 drgs based on readmission % with more than 50 admissions.  The interesting observation is that drug or alcohol abuse patients who left against medical advice have the highest readmission rate out of all the drgs.  Interstingly enough, 2 out of the 3 top drgs are alcohol related.  Also, there are 4 tracheostomy related drgs within the top 10.  Tracheostomy is the surgical procedure where a hole is created within the trachea to faciliate mechanical respiration."
   ]
  },
  {
   "cell_type": "code",
   "execution_count": 48,
   "metadata": {},
   "outputs": [
    {
     "data": {
      "text/plain": [
       "drg\n",
       "DrugAlcoholAbuseorDependenceLeftAgainstMedicalAdvice                                                                                    0.235294\n",
       "PULMONARYEDEMARESPIRATORYFAILURE                                                                                                        0.185185\n",
       "CIRRHOSISALCOHOLICHEPATITIS                                                                                                             0.179487\n",
       "MalfunctionReactionCompofCardiacorVascDeviceorProc                                                                                      0.178295\n",
       "DIABETESAGE0-35                                                                                                                         0.177215\n",
       "ECMOORTRACHEOSTOMYWITHMECHANICALVENTILATION96HOURSORPRINCIPALDIAGNOSESEXCEPTFACEMOUTHANDNECKDIAGNOSESWITHMAJOROPERATINGROOMPROCEDURE    0.170886\n",
       "TracheostomyWLongTermMechanicalVentilationWExtensiveProcedure                                                                           0.167553\n",
       "TRACHEOSTOMYWITHMECHANICALVENTILATION96HOURSORPRINCIPALDIAGNOSISEXCEPTFACEMOUTHANDNECKDIAGNOSES                                         0.158590\n",
       "PeripheralCranialAutonomicNerveDisorders                                                                                                0.153846\n",
       "TracheostomyWLongTermMechanicalVentilationWOExtensiveProcedure                                                                          0.151335\n",
       "Name: readmitted_flag, dtype: float64"
      ]
     },
     "execution_count": 48,
     "metadata": {},
     "output_type": "execute_result"
    }
   ],
   "source": [
    "drg_greaterby_groupby = data.groupby(['drg'])['readmitted_flag'].count()\n",
    "drg_greaterby_groupby = list(drg_greaterby_groupby.where(drg_greaterby_groupby>50).dropna().index)\n",
    "\n",
    "drg_readmission_groupby = data[data['drg'].isin(drg_greaterby_groupby)].groupby(['drg'])['readmitted_flag'].sum()/data[data['drg'].isin(drg_greaterby_groupby)].groupby(['drg'])['readmitted_flag'].count()\n",
    "drg_readmission_groupby.sort_values(ascending=0).head(10)"
   ]
  },
  {
   "cell_type": "markdown",
   "metadata": {},
   "source": [
    "In summary, there were definite patterns that showed readmission rates were different across aggregations of patients. However, these patterns were highly predictive of readmission due to the complexity and the multitude of factors that can influence whether a patient is readmitted or not."
   ]
  },
  {
   "cell_type": "markdown",
   "metadata": {},
   "source": [
    "## Methodology - Implementation\n",
    "\n",
    "### Additional Data Preprocessing\n",
    "\n",
    "The data needs to be transformed to be able to use in machine learning.\n",
    "\n",
    "The first step is to convert all the categorical variables into the dummy variables"
   ]
  },
  {
   "cell_type": "code",
   "execution_count": 49,
   "metadata": {
    "collapsed": true
   },
   "outputs": [],
   "source": [
    "data_new = data\n",
    "\n",
    "cat_vars = ['admission_type','admission_location','discharge_location','insurance','marital_status','drg','primary_diag','primary_proc']\n",
    "\n",
    "for c in cat_vars:\n",
    "    # for each cat add dummy var, drop original column\n",
    "    data_new = pd.concat([data_new.drop([c], axis=1), pd.get_dummies(data_new[c], prefix=c, prefix_sep='_', drop_first=True, dummy_na=True)], axis=1)"
   ]
  },
  {
   "cell_type": "markdown",
   "metadata": {},
   "source": [
    "The second step is transform the secondary diagnoses and procedures datasets then generate matrices for the secondary diagnoses and procedures and join them into the main dataset.\n",
    "\n",
    "The secondary diagnoses dataset was cleaned and pivoted to generate the approrpiate data structure."
   ]
  },
  {
   "cell_type": "code",
   "execution_count": 50,
   "metadata": {},
   "outputs": [
    {
     "data": {
      "text/html": [
       "<div>\n",
       "<table border=\"1\" class=\"dataframe\">\n",
       "  <thead>\n",
       "    <tr style=\"text-align: right;\">\n",
       "      <th>long_title</th>\n",
       "      <th>0414</th>\n",
       "      <th>1730</th>\n",
       "      <th>1731</th>\n",
       "      <th>1732</th>\n",
       "      <th>1733</th>\n",
       "      <th>1734</th>\n",
       "      <th>1735</th>\n",
       "      <th>1736</th>\n",
       "      <th>1737</th>\n",
       "      <th>1738</th>\n",
       "      <th>...</th>\n",
       "      <th>Weboflarynx</th>\n",
       "      <th>Wegenersgranulomatosis</th>\n",
       "      <th>WestNileFeverwithotherneurologicmanifestation</th>\n",
       "      <th>Wheelchairdependence</th>\n",
       "      <th>Wheezing</th>\n",
       "      <th>Whoopingcoughduetootherspecifiedorganism</th>\n",
       "      <th>Wristdropacquired</th>\n",
       "      <th>Wristjointreplacement</th>\n",
       "      <th>Wrongfluidininfusion</th>\n",
       "      <th>ZygomycosisPhycomycosisorMucormycosis</th>\n",
       "    </tr>\n",
       "    <tr>\n",
       "      <th>hadm_id</th>\n",
       "      <th></th>\n",
       "      <th></th>\n",
       "      <th></th>\n",
       "      <th></th>\n",
       "      <th></th>\n",
       "      <th></th>\n",
       "      <th></th>\n",
       "      <th></th>\n",
       "      <th></th>\n",
       "      <th></th>\n",
       "      <th></th>\n",
       "      <th></th>\n",
       "      <th></th>\n",
       "      <th></th>\n",
       "      <th></th>\n",
       "      <th></th>\n",
       "      <th></th>\n",
       "      <th></th>\n",
       "      <th></th>\n",
       "      <th></th>\n",
       "      <th></th>\n",
       "    </tr>\n",
       "  </thead>\n",
       "  <tbody>\n",
       "    <tr>\n",
       "      <th>100001</th>\n",
       "      <td>NaN</td>\n",
       "      <td>NaN</td>\n",
       "      <td>NaN</td>\n",
       "      <td>NaN</td>\n",
       "      <td>NaN</td>\n",
       "      <td>NaN</td>\n",
       "      <td>NaN</td>\n",
       "      <td>NaN</td>\n",
       "      <td>NaN</td>\n",
       "      <td>NaN</td>\n",
       "      <td>...</td>\n",
       "      <td>NaN</td>\n",
       "      <td>NaN</td>\n",
       "      <td>NaN</td>\n",
       "      <td>NaN</td>\n",
       "      <td>NaN</td>\n",
       "      <td>NaN</td>\n",
       "      <td>NaN</td>\n",
       "      <td>NaN</td>\n",
       "      <td>NaN</td>\n",
       "      <td>NaN</td>\n",
       "    </tr>\n",
       "    <tr>\n",
       "      <th>100003</th>\n",
       "      <td>NaN</td>\n",
       "      <td>NaN</td>\n",
       "      <td>NaN</td>\n",
       "      <td>NaN</td>\n",
       "      <td>NaN</td>\n",
       "      <td>NaN</td>\n",
       "      <td>NaN</td>\n",
       "      <td>NaN</td>\n",
       "      <td>NaN</td>\n",
       "      <td>NaN</td>\n",
       "      <td>...</td>\n",
       "      <td>NaN</td>\n",
       "      <td>NaN</td>\n",
       "      <td>NaN</td>\n",
       "      <td>NaN</td>\n",
       "      <td>NaN</td>\n",
       "      <td>NaN</td>\n",
       "      <td>NaN</td>\n",
       "      <td>NaN</td>\n",
       "      <td>NaN</td>\n",
       "      <td>NaN</td>\n",
       "    </tr>\n",
       "    <tr>\n",
       "      <th>100006</th>\n",
       "      <td>NaN</td>\n",
       "      <td>NaN</td>\n",
       "      <td>NaN</td>\n",
       "      <td>NaN</td>\n",
       "      <td>NaN</td>\n",
       "      <td>NaN</td>\n",
       "      <td>NaN</td>\n",
       "      <td>NaN</td>\n",
       "      <td>NaN</td>\n",
       "      <td>NaN</td>\n",
       "      <td>...</td>\n",
       "      <td>NaN</td>\n",
       "      <td>NaN</td>\n",
       "      <td>NaN</td>\n",
       "      <td>NaN</td>\n",
       "      <td>NaN</td>\n",
       "      <td>NaN</td>\n",
       "      <td>NaN</td>\n",
       "      <td>NaN</td>\n",
       "      <td>NaN</td>\n",
       "      <td>NaN</td>\n",
       "    </tr>\n",
       "    <tr>\n",
       "      <th>100007</th>\n",
       "      <td>NaN</td>\n",
       "      <td>NaN</td>\n",
       "      <td>NaN</td>\n",
       "      <td>NaN</td>\n",
       "      <td>NaN</td>\n",
       "      <td>NaN</td>\n",
       "      <td>NaN</td>\n",
       "      <td>NaN</td>\n",
       "      <td>NaN</td>\n",
       "      <td>NaN</td>\n",
       "      <td>...</td>\n",
       "      <td>NaN</td>\n",
       "      <td>NaN</td>\n",
       "      <td>NaN</td>\n",
       "      <td>NaN</td>\n",
       "      <td>NaN</td>\n",
       "      <td>NaN</td>\n",
       "      <td>NaN</td>\n",
       "      <td>NaN</td>\n",
       "      <td>NaN</td>\n",
       "      <td>NaN</td>\n",
       "    </tr>\n",
       "    <tr>\n",
       "      <th>100009</th>\n",
       "      <td>NaN</td>\n",
       "      <td>NaN</td>\n",
       "      <td>NaN</td>\n",
       "      <td>NaN</td>\n",
       "      <td>NaN</td>\n",
       "      <td>NaN</td>\n",
       "      <td>NaN</td>\n",
       "      <td>NaN</td>\n",
       "      <td>NaN</td>\n",
       "      <td>NaN</td>\n",
       "      <td>...</td>\n",
       "      <td>NaN</td>\n",
       "      <td>NaN</td>\n",
       "      <td>NaN</td>\n",
       "      <td>NaN</td>\n",
       "      <td>NaN</td>\n",
       "      <td>NaN</td>\n",
       "      <td>NaN</td>\n",
       "      <td>NaN</td>\n",
       "      <td>NaN</td>\n",
       "      <td>NaN</td>\n",
       "    </tr>\n",
       "  </tbody>\n",
       "</table>\n",
       "<p>5 rows × 6629 columns</p>\n",
       "</div>"
      ],
      "text/plain": [
       "long_title  0414  1730  1731  1732  1733  1734  1735  1736  1737  1738  \\\n",
       "hadm_id                                                                  \n",
       "100001       NaN   NaN   NaN   NaN   NaN   NaN   NaN   NaN   NaN   NaN   \n",
       "100003       NaN   NaN   NaN   NaN   NaN   NaN   NaN   NaN   NaN   NaN   \n",
       "100006       NaN   NaN   NaN   NaN   NaN   NaN   NaN   NaN   NaN   NaN   \n",
       "100007       NaN   NaN   NaN   NaN   NaN   NaN   NaN   NaN   NaN   NaN   \n",
       "100009       NaN   NaN   NaN   NaN   NaN   NaN   NaN   NaN   NaN   NaN   \n",
       "\n",
       "long_title                  ...                    Weboflarynx  \\\n",
       "hadm_id                     ...                                  \n",
       "100001                      ...                            NaN   \n",
       "100003                      ...                            NaN   \n",
       "100006                      ...                            NaN   \n",
       "100007                      ...                            NaN   \n",
       "100009                      ...                            NaN   \n",
       "\n",
       "long_title  Wegenersgranulomatosis  \\\n",
       "hadm_id                              \n",
       "100001                         NaN   \n",
       "100003                         NaN   \n",
       "100006                         NaN   \n",
       "100007                         NaN   \n",
       "100009                         NaN   \n",
       "\n",
       "long_title  WestNileFeverwithotherneurologicmanifestation  \\\n",
       "hadm_id                                                     \n",
       "100001                                                NaN   \n",
       "100003                                                NaN   \n",
       "100006                                                NaN   \n",
       "100007                                                NaN   \n",
       "100009                                                NaN   \n",
       "\n",
       "long_title  Wheelchairdependence  Wheezing  \\\n",
       "hadm_id                                      \n",
       "100001                       NaN       NaN   \n",
       "100003                       NaN       NaN   \n",
       "100006                       NaN       NaN   \n",
       "100007                       NaN       NaN   \n",
       "100009                       NaN       NaN   \n",
       "\n",
       "long_title  Whoopingcoughduetootherspecifiedorganism  Wristdropacquired  \\\n",
       "hadm_id                                                                   \n",
       "100001                                           NaN                NaN   \n",
       "100003                                           NaN                NaN   \n",
       "100006                                           NaN                NaN   \n",
       "100007                                           NaN                NaN   \n",
       "100009                                           NaN                NaN   \n",
       "\n",
       "long_title  Wristjointreplacement  Wrongfluidininfusion  \\\n",
       "hadm_id                                                   \n",
       "100001                        NaN                   NaN   \n",
       "100003                        NaN                   NaN   \n",
       "100006                        NaN                   NaN   \n",
       "100007                        NaN                   NaN   \n",
       "100009                        NaN                   NaN   \n",
       "\n",
       "long_title  ZygomycosisPhycomycosisorMucormycosis  \n",
       "hadm_id                                            \n",
       "100001                                        NaN  \n",
       "100003                                        NaN  \n",
       "100006                                        NaN  \n",
       "100007                                        NaN  \n",
       "100009                                        NaN  \n",
       "\n",
       "[5 rows x 6629 columns]"
      ]
     },
     "execution_count": 50,
     "metadata": {},
     "output_type": "execute_result"
    }
   ],
   "source": [
    "# remove special characters, pivot the data, and then join them to the main dataset\n",
    "sec_diag_data['long_title'] = sec_diag_data['long_title'].apply(lambda x : re.sub('[^a-zA-Z0-9-_*.]', '', str(x)))\n",
    "sec_diag_data['count'] = 1\n",
    "sec_diag_data = sec_diag_data.pivot(index='hadm_id', columns = 'long_title', values='count')\n",
    "\n",
    "sec_diag_data.head(5)"
   ]
  },
  {
   "cell_type": "markdown",
   "metadata": {},
   "source": [
    "next, the secondary procedures dataset was cleaned and pivoted to generate the appropriate data structure."
   ]
  },
  {
   "cell_type": "code",
   "execution_count": 51,
   "metadata": {},
   "outputs": [
    {
     "data": {
      "text/html": [
       "<div>\n",
       "<table border=\"1\" class=\"dataframe\">\n",
       "  <thead>\n",
       "    <tr style=\"text-align: right;\">\n",
       "      <th>long_title</th>\n",
       "      <th>022</th>\n",
       "      <th>323</th>\n",
       "      <th>324</th>\n",
       "      <th>325</th>\n",
       "      <th>3601</th>\n",
       "      <th>3602</th>\n",
       "      <th>3605</th>\n",
       "      <th>374</th>\n",
       "      <th>398</th>\n",
       "      <th>458</th>\n",
       "      <th>...</th>\n",
       "      <th>Venouscatheterizationnotelsewhereclassified</th>\n",
       "      <th>Venouscutdown</th>\n",
       "      <th>Ventricularshunttoabdominalcavityandorgans</th>\n",
       "      <th>VentricularshunttoextracranialsiteNEC</th>\n",
       "      <th>Ventricularshunttostructureinheadandneck</th>\n",
       "      <th>Ventricularshunttothoraciccavity</th>\n",
       "      <th>Ventriculopuncturethroughpreviouslyimplantedcatheter</th>\n",
       "      <th>Videoandradio-telemeteredelectroencephalographicmonitoring</th>\n",
       "      <th>Vitalcapacitydetermination</th>\n",
       "      <th>Wideexcisionoflesionoflip</th>\n",
       "    </tr>\n",
       "    <tr>\n",
       "      <th>hadm_id</th>\n",
       "      <th></th>\n",
       "      <th></th>\n",
       "      <th></th>\n",
       "      <th></th>\n",
       "      <th></th>\n",
       "      <th></th>\n",
       "      <th></th>\n",
       "      <th></th>\n",
       "      <th></th>\n",
       "      <th></th>\n",
       "      <th></th>\n",
       "      <th></th>\n",
       "      <th></th>\n",
       "      <th></th>\n",
       "      <th></th>\n",
       "      <th></th>\n",
       "      <th></th>\n",
       "      <th></th>\n",
       "      <th></th>\n",
       "      <th></th>\n",
       "      <th></th>\n",
       "    </tr>\n",
       "  </thead>\n",
       "  <tbody>\n",
       "    <tr>\n",
       "      <th>100003</th>\n",
       "      <td>NaN</td>\n",
       "      <td>NaN</td>\n",
       "      <td>NaN</td>\n",
       "      <td>NaN</td>\n",
       "      <td>NaN</td>\n",
       "      <td>NaN</td>\n",
       "      <td>NaN</td>\n",
       "      <td>NaN</td>\n",
       "      <td>NaN</td>\n",
       "      <td>NaN</td>\n",
       "      <td>...</td>\n",
       "      <td>1.0</td>\n",
       "      <td>NaN</td>\n",
       "      <td>NaN</td>\n",
       "      <td>NaN</td>\n",
       "      <td>NaN</td>\n",
       "      <td>NaN</td>\n",
       "      <td>NaN</td>\n",
       "      <td>NaN</td>\n",
       "      <td>NaN</td>\n",
       "      <td>NaN</td>\n",
       "    </tr>\n",
       "    <tr>\n",
       "      <th>100006</th>\n",
       "      <td>NaN</td>\n",
       "      <td>NaN</td>\n",
       "      <td>NaN</td>\n",
       "      <td>NaN</td>\n",
       "      <td>NaN</td>\n",
       "      <td>NaN</td>\n",
       "      <td>NaN</td>\n",
       "      <td>NaN</td>\n",
       "      <td>NaN</td>\n",
       "      <td>NaN</td>\n",
       "      <td>...</td>\n",
       "      <td>NaN</td>\n",
       "      <td>NaN</td>\n",
       "      <td>NaN</td>\n",
       "      <td>NaN</td>\n",
       "      <td>NaN</td>\n",
       "      <td>NaN</td>\n",
       "      <td>NaN</td>\n",
       "      <td>NaN</td>\n",
       "      <td>NaN</td>\n",
       "      <td>NaN</td>\n",
       "    </tr>\n",
       "    <tr>\n",
       "      <th>100007</th>\n",
       "      <td>NaN</td>\n",
       "      <td>NaN</td>\n",
       "      <td>NaN</td>\n",
       "      <td>NaN</td>\n",
       "      <td>NaN</td>\n",
       "      <td>NaN</td>\n",
       "      <td>NaN</td>\n",
       "      <td>NaN</td>\n",
       "      <td>NaN</td>\n",
       "      <td>NaN</td>\n",
       "      <td>...</td>\n",
       "      <td>NaN</td>\n",
       "      <td>NaN</td>\n",
       "      <td>NaN</td>\n",
       "      <td>NaN</td>\n",
       "      <td>NaN</td>\n",
       "      <td>NaN</td>\n",
       "      <td>NaN</td>\n",
       "      <td>NaN</td>\n",
       "      <td>NaN</td>\n",
       "      <td>NaN</td>\n",
       "    </tr>\n",
       "    <tr>\n",
       "      <th>100009</th>\n",
       "      <td>NaN</td>\n",
       "      <td>NaN</td>\n",
       "      <td>NaN</td>\n",
       "      <td>NaN</td>\n",
       "      <td>NaN</td>\n",
       "      <td>NaN</td>\n",
       "      <td>NaN</td>\n",
       "      <td>NaN</td>\n",
       "      <td>NaN</td>\n",
       "      <td>NaN</td>\n",
       "      <td>...</td>\n",
       "      <td>NaN</td>\n",
       "      <td>NaN</td>\n",
       "      <td>NaN</td>\n",
       "      <td>NaN</td>\n",
       "      <td>NaN</td>\n",
       "      <td>NaN</td>\n",
       "      <td>NaN</td>\n",
       "      <td>NaN</td>\n",
       "      <td>NaN</td>\n",
       "      <td>NaN</td>\n",
       "    </tr>\n",
       "    <tr>\n",
       "      <th>100010</th>\n",
       "      <td>NaN</td>\n",
       "      <td>NaN</td>\n",
       "      <td>NaN</td>\n",
       "      <td>NaN</td>\n",
       "      <td>NaN</td>\n",
       "      <td>NaN</td>\n",
       "      <td>NaN</td>\n",
       "      <td>NaN</td>\n",
       "      <td>NaN</td>\n",
       "      <td>NaN</td>\n",
       "      <td>...</td>\n",
       "      <td>NaN</td>\n",
       "      <td>NaN</td>\n",
       "      <td>NaN</td>\n",
       "      <td>NaN</td>\n",
       "      <td>NaN</td>\n",
       "      <td>NaN</td>\n",
       "      <td>NaN</td>\n",
       "      <td>NaN</td>\n",
       "      <td>NaN</td>\n",
       "      <td>NaN</td>\n",
       "    </tr>\n",
       "  </tbody>\n",
       "</table>\n",
       "<p>5 rows × 1870 columns</p>\n",
       "</div>"
      ],
      "text/plain": [
       "long_title  022  323  324  325  3601  3602  3605  374  398  458  \\\n",
       "hadm_id                                                           \n",
       "100003      NaN  NaN  NaN  NaN   NaN   NaN   NaN  NaN  NaN  NaN   \n",
       "100006      NaN  NaN  NaN  NaN   NaN   NaN   NaN  NaN  NaN  NaN   \n",
       "100007      NaN  NaN  NaN  NaN   NaN   NaN   NaN  NaN  NaN  NaN   \n",
       "100009      NaN  NaN  NaN  NaN   NaN   NaN   NaN  NaN  NaN  NaN   \n",
       "100010      NaN  NaN  NaN  NaN   NaN   NaN   NaN  NaN  NaN  NaN   \n",
       "\n",
       "long_title            ...              \\\n",
       "hadm_id               ...               \n",
       "100003                ...               \n",
       "100006                ...               \n",
       "100007                ...               \n",
       "100009                ...               \n",
       "100010                ...               \n",
       "\n",
       "long_title  Venouscatheterizationnotelsewhereclassified  Venouscutdown  \\\n",
       "hadm_id                                                                  \n",
       "100003                                              1.0            NaN   \n",
       "100006                                              NaN            NaN   \n",
       "100007                                              NaN            NaN   \n",
       "100009                                              NaN            NaN   \n",
       "100010                                              NaN            NaN   \n",
       "\n",
       "long_title  Ventricularshunttoabdominalcavityandorgans  \\\n",
       "hadm_id                                                  \n",
       "100003                                             NaN   \n",
       "100006                                             NaN   \n",
       "100007                                             NaN   \n",
       "100009                                             NaN   \n",
       "100010                                             NaN   \n",
       "\n",
       "long_title  VentricularshunttoextracranialsiteNEC  \\\n",
       "hadm_id                                             \n",
       "100003                                        NaN   \n",
       "100006                                        NaN   \n",
       "100007                                        NaN   \n",
       "100009                                        NaN   \n",
       "100010                                        NaN   \n",
       "\n",
       "long_title  Ventricularshunttostructureinheadandneck  \\\n",
       "hadm_id                                                \n",
       "100003                                           NaN   \n",
       "100006                                           NaN   \n",
       "100007                                           NaN   \n",
       "100009                                           NaN   \n",
       "100010                                           NaN   \n",
       "\n",
       "long_title  Ventricularshunttothoraciccavity  \\\n",
       "hadm_id                                        \n",
       "100003                                   NaN   \n",
       "100006                                   NaN   \n",
       "100007                                   NaN   \n",
       "100009                                   NaN   \n",
       "100010                                   NaN   \n",
       "\n",
       "long_title  Ventriculopuncturethroughpreviouslyimplantedcatheter  \\\n",
       "hadm_id                                                            \n",
       "100003                                                    NaN      \n",
       "100006                                                    NaN      \n",
       "100007                                                    NaN      \n",
       "100009                                                    NaN      \n",
       "100010                                                    NaN      \n",
       "\n",
       "long_title  Videoandradio-telemeteredelectroencephalographicmonitoring  \\\n",
       "hadm_id                                                                  \n",
       "100003                                                    NaN            \n",
       "100006                                                    NaN            \n",
       "100007                                                    NaN            \n",
       "100009                                                    NaN            \n",
       "100010                                                    NaN            \n",
       "\n",
       "long_title  Vitalcapacitydetermination  Wideexcisionoflesionoflip  \n",
       "hadm_id                                                            \n",
       "100003                             NaN                        NaN  \n",
       "100006                             NaN                        NaN  \n",
       "100007                             NaN                        NaN  \n",
       "100009                             NaN                        NaN  \n",
       "100010                             NaN                        NaN  \n",
       "\n",
       "[5 rows x 1870 columns]"
      ]
     },
     "execution_count": 51,
     "metadata": {},
     "output_type": "execute_result"
    }
   ],
   "source": [
    "sec_proc_data['long_title'] = sec_proc_data['long_title'].apply(lambda x : re.sub('[^a-zA-Z0-9-_*.]', '', str(x)))\n",
    "sec_proc_data['count'] = 1\n",
    "sec_proc_data = sec_proc_data.pivot(index='hadm_id', columns = 'long_title', values='count')\n",
    "\n",
    "sec_proc_data.head(5)"
   ]
  },
  {
   "cell_type": "markdown",
   "metadata": {},
   "source": [
    "Both datasets were joined into the main dataset."
   ]
  },
  {
   "cell_type": "code",
   "execution_count": 52,
   "metadata": {},
   "outputs": [
    {
     "data": {
      "text/html": [
       "<div>\n",
       "<table border=\"1\" class=\"dataframe\">\n",
       "  <thead>\n",
       "    <tr style=\"text-align: right;\">\n",
       "      <th></th>\n",
       "      <th>hadm_id</th>\n",
       "      <th>los_days</th>\n",
       "      <th>emergency_hours</th>\n",
       "      <th>age</th>\n",
       "      <th>icu_days</th>\n",
       "      <th>diag_count</th>\n",
       "      <th>proc_count</th>\n",
       "      <th>visits_prior_30_days</th>\n",
       "      <th>non_elective_visits_prior_30_days</th>\n",
       "      <th>visits_prior_year</th>\n",
       "      <th>...</th>\n",
       "      <th>primary_proc_Ureteralcatheterization</th>\n",
       "      <th>primary_proc_Urinarydiversiontointestine</th>\n",
       "      <th>primary_proc_Venouscatheterizationforrenaldialysis</th>\n",
       "      <th>primary_proc_Venouscatheterizationnotelsewhereclassified</th>\n",
       "      <th>primary_proc_Venouscutdown</th>\n",
       "      <th>primary_proc_Ventricularshunttoabdominalcavityandorgans</th>\n",
       "      <th>primary_proc_VentricularshunttoextracranialsiteNEC</th>\n",
       "      <th>primary_proc_Ventriculopuncturethroughpreviouslyimplantedcatheter</th>\n",
       "      <th>primary_proc_Videoandradio-telemeteredelectroencephalographicmonitoring</th>\n",
       "      <th>primary_proc_nan</th>\n",
       "    </tr>\n",
       "  </thead>\n",
       "  <tbody>\n",
       "    <tr>\n",
       "      <th>1</th>\n",
       "      <td>145834</td>\n",
       "      <td>10.750000</td>\n",
       "      <td>0.25</td>\n",
       "      <td>76.0</td>\n",
       "      <td>6.0646</td>\n",
       "      <td>9</td>\n",
       "      <td>6.0</td>\n",
       "      <td>0</td>\n",
       "      <td>0</td>\n",
       "      <td>0</td>\n",
       "      <td>...</td>\n",
       "      <td>0</td>\n",
       "      <td>0</td>\n",
       "      <td>0</td>\n",
       "      <td>0</td>\n",
       "      <td>0</td>\n",
       "      <td>0</td>\n",
       "      <td>0</td>\n",
       "      <td>0</td>\n",
       "      <td>0</td>\n",
       "      <td>0</td>\n",
       "    </tr>\n",
       "    <tr>\n",
       "      <th>2</th>\n",
       "      <td>185777</td>\n",
       "      <td>7.750000</td>\n",
       "      <td>0.00</td>\n",
       "      <td>47.0</td>\n",
       "      <td>1.6785</td>\n",
       "      <td>9</td>\n",
       "      <td>3.0</td>\n",
       "      <td>0</td>\n",
       "      <td>0</td>\n",
       "      <td>0</td>\n",
       "      <td>...</td>\n",
       "      <td>0</td>\n",
       "      <td>0</td>\n",
       "      <td>0</td>\n",
       "      <td>1</td>\n",
       "      <td>0</td>\n",
       "      <td>0</td>\n",
       "      <td>0</td>\n",
       "      <td>0</td>\n",
       "      <td>0</td>\n",
       "      <td>0</td>\n",
       "    </tr>\n",
       "    <tr>\n",
       "      <th>4</th>\n",
       "      <td>107064</td>\n",
       "      <td>16.333333</td>\n",
       "      <td>0.00</td>\n",
       "      <td>65.0</td>\n",
       "      <td>3.6729</td>\n",
       "      <td>8</td>\n",
       "      <td>5.0</td>\n",
       "      <td>0</td>\n",
       "      <td>0</td>\n",
       "      <td>0</td>\n",
       "      <td>...</td>\n",
       "      <td>0</td>\n",
       "      <td>0</td>\n",
       "      <td>0</td>\n",
       "      <td>0</td>\n",
       "      <td>0</td>\n",
       "      <td>0</td>\n",
       "      <td>0</td>\n",
       "      <td>0</td>\n",
       "      <td>0</td>\n",
       "      <td>0</td>\n",
       "    </tr>\n",
       "    <tr>\n",
       "      <th>11</th>\n",
       "      <td>143045</td>\n",
       "      <td>6.833333</td>\n",
       "      <td>0.00</td>\n",
       "      <td>39.0</td>\n",
       "      <td>3.6660</td>\n",
       "      <td>5</td>\n",
       "      <td>5.0</td>\n",
       "      <td>0</td>\n",
       "      <td>0</td>\n",
       "      <td>0</td>\n",
       "      <td>...</td>\n",
       "      <td>0</td>\n",
       "      <td>0</td>\n",
       "      <td>0</td>\n",
       "      <td>0</td>\n",
       "      <td>0</td>\n",
       "      <td>0</td>\n",
       "      <td>0</td>\n",
       "      <td>0</td>\n",
       "      <td>0</td>\n",
       "      <td>0</td>\n",
       "    </tr>\n",
       "    <tr>\n",
       "      <th>13</th>\n",
       "      <td>161087</td>\n",
       "      <td>4.000000</td>\n",
       "      <td>0.30</td>\n",
       "      <td>47.0</td>\n",
       "      <td>0.8795</td>\n",
       "      <td>8</td>\n",
       "      <td>3.0</td>\n",
       "      <td>1</td>\n",
       "      <td>0</td>\n",
       "      <td>1</td>\n",
       "      <td>...</td>\n",
       "      <td>0</td>\n",
       "      <td>0</td>\n",
       "      <td>0</td>\n",
       "      <td>0</td>\n",
       "      <td>0</td>\n",
       "      <td>0</td>\n",
       "      <td>0</td>\n",
       "      <td>0</td>\n",
       "      <td>0</td>\n",
       "      <td>0</td>\n",
       "    </tr>\n",
       "  </tbody>\n",
       "</table>\n",
       "<p>5 rows × 4633 columns</p>\n",
       "</div>"
      ],
      "text/plain": [
       "    hadm_id   los_days  emergency_hours   age  icu_days  diag_count  \\\n",
       "1    145834  10.750000             0.25  76.0    6.0646           9   \n",
       "2    185777   7.750000             0.00  47.0    1.6785           9   \n",
       "4    107064  16.333333             0.00  65.0    3.6729           8   \n",
       "11   143045   6.833333             0.00  39.0    3.6660           5   \n",
       "13   161087   4.000000             0.30  47.0    0.8795           8   \n",
       "\n",
       "    proc_count  visits_prior_30_days  non_elective_visits_prior_30_days  \\\n",
       "1          6.0                     0                                  0   \n",
       "2          3.0                     0                                  0   \n",
       "4          5.0                     0                                  0   \n",
       "11         5.0                     0                                  0   \n",
       "13         3.0                     1                                  0   \n",
       "\n",
       "    visits_prior_year        ...         primary_proc_Ureteralcatheterization  \\\n",
       "1                   0        ...                                            0   \n",
       "2                   0        ...                                            0   \n",
       "4                   0        ...                                            0   \n",
       "11                  0        ...                                            0   \n",
       "13                  1        ...                                            0   \n",
       "\n",
       "    primary_proc_Urinarydiversiontointestine  \\\n",
       "1                                          0   \n",
       "2                                          0   \n",
       "4                                          0   \n",
       "11                                         0   \n",
       "13                                         0   \n",
       "\n",
       "    primary_proc_Venouscatheterizationforrenaldialysis  \\\n",
       "1                                                   0    \n",
       "2                                                   0    \n",
       "4                                                   0    \n",
       "11                                                  0    \n",
       "13                                                  0    \n",
       "\n",
       "    primary_proc_Venouscatheterizationnotelsewhereclassified  \\\n",
       "1                                                   0          \n",
       "2                                                   1          \n",
       "4                                                   0          \n",
       "11                                                  0          \n",
       "13                                                  0          \n",
       "\n",
       "    primary_proc_Venouscutdown  \\\n",
       "1                            0   \n",
       "2                            0   \n",
       "4                            0   \n",
       "11                           0   \n",
       "13                           0   \n",
       "\n",
       "    primary_proc_Ventricularshunttoabdominalcavityandorgans  \\\n",
       "1                                                   0         \n",
       "2                                                   0         \n",
       "4                                                   0         \n",
       "11                                                  0         \n",
       "13                                                  0         \n",
       "\n",
       "    primary_proc_VentricularshunttoextracranialsiteNEC  \\\n",
       "1                                                   0    \n",
       "2                                                   0    \n",
       "4                                                   0    \n",
       "11                                                  0    \n",
       "13                                                  0    \n",
       "\n",
       "    primary_proc_Ventriculopuncturethroughpreviouslyimplantedcatheter  \\\n",
       "1                                                   0                   \n",
       "2                                                   0                   \n",
       "4                                                   0                   \n",
       "11                                                  0                   \n",
       "13                                                  0                   \n",
       "\n",
       "    primary_proc_Videoandradio-telemeteredelectroencephalographicmonitoring  \\\n",
       "1                                                   0                         \n",
       "2                                                   0                         \n",
       "4                                                   0                         \n",
       "11                                                  0                         \n",
       "13                                                  0                         \n",
       "\n",
       "    primary_proc_nan  \n",
       "1                  0  \n",
       "2                  0  \n",
       "4                  0  \n",
       "11                 0  \n",
       "13                 0  \n",
       "\n",
       "[5 rows x 4633 columns]"
      ]
     },
     "execution_count": 52,
     "metadata": {},
     "output_type": "execute_result"
    }
   ],
   "source": [
    "data_new.merge(sec_proc_data, left_on='hadm_id', right_index=True, how='left')\n",
    "data_new.merge(sec_diag_data, left_on='hadm_id', right_index=True, how='left')\n",
    "\n",
    "data_new.head(5)"
   ]
  },
  {
   "cell_type": "markdown",
   "metadata": {},
   "source": [
    "The last step is to replace any NaNs with zeroes and remove the hadm_id, which was used to join the datasets."
   ]
  },
  {
   "cell_type": "code",
   "execution_count": 41,
   "metadata": {
    "collapsed": true
   },
   "outputs": [],
   "source": [
    "# fill all nans with 0\n",
    "data_new = data_new.fillna(0)\n",
    "data_new = data_new.reset_index()\n",
    "\n",
    "# remove hadm_id.  it is no longer needed\n",
    "data_new = data_new.drop(['hadm_id','index'], axis = 1)"
   ]
  },
  {
   "cell_type": "markdown",
   "metadata": {},
   "source": [
    "There will be two datasets that will be used for machine learning.  The first dataset will contain all the data excluding the secondary diagnoses and procedures.  The second dataset will contains all variables.\n",
    "\n",
    "Both datasets will be split into a feature and target dataset using stratified shuffle split to ensure that the target variable percentages are the same in both datasets."
   ]
  },
  {
   "cell_type": "code",
   "execution_count": 42,
   "metadata": {
    "collapsed": true
   },
   "outputs": [],
   "source": [
    "# Filter the datasets\n",
    "data_one = data_new.loc[:,'los_days':'primary_proc_nan']\n",
    "data_two = data_new\n",
    "\n",
    "# Split into features and target datasets\n",
    "features = data_one.drop('readmitted_flag', axis = 1)\n",
    "target = data_one['readmitted_flag']\n",
    "\n",
    "features_two = data_two.drop('readmitted_flag', axis = 1)\n",
    "target_two = data_two['readmitted_flag']"
   ]
  },
  {
   "cell_type": "markdown",
   "metadata": {},
   "source": [
    "The target is imbalanced with only 6.7% of the admission resulted in readmissions."
   ]
  },
  {
   "cell_type": "code",
   "execution_count": 43,
   "metadata": {},
   "outputs": [
    {
     "name": "stdout",
     "output_type": "stream",
     "text": [
      "0.0672158154859967\n"
     ]
    }
   ],
   "source": [
    "print(target.sum()/target.count())"
   ]
  },
  {
   "cell_type": "markdown",
   "metadata": {},
   "source": [
    "Since the target is imbalanced, stratified shuffle split is used to ensure that both the training and testing datasets have the same proportion of target variables."
   ]
  },
  {
   "cell_type": "code",
   "execution_count": 44,
   "metadata": {},
   "outputs": [
    {
     "name": "stdout",
     "output_type": "stream",
     "text": [
      "0.06723150545226328\n",
      "0.06719228053659684\n"
     ]
    }
   ],
   "source": [
    "from sklearn.model_selection import StratifiedShuffleSplit\n",
    "\n",
    "sss = StratifiedShuffleSplit(n_splits = 1, test_size=0.4, random_state =319)\n",
    "\n",
    "for train_index, test_index in sss.split(features,target):\n",
    "    features_train, target_train = features.iloc[train_index], target.iloc[train_index]\n",
    "    features_test, target_test = features.iloc[test_index], target.iloc[test_index]\n",
    "    \n",
    "    features_train_two, target_train_two = features.iloc[train_index], target.iloc[train_index]\n",
    "    features_test_two, target_test_two = features_two.iloc[test_index], target_two.iloc[test_index]\n",
    "    \n",
    "# verify that the stratified \n",
    "print(target_train.sum()/target_train.count())\n",
    "print(target_test.sum()/target_test.count())"
   ]
  },
  {
   "cell_type": "markdown",
   "metadata": {},
   "source": [
    "### Baseline\n",
    "\n",
    "Since this is an imbalance classification problem, the baseline is simply assuming that none of the admissions will be readmitted again.\n",
    "\n",
    "This results in a baseline of 93.28%, which leaves very little room for improvement."
   ]
  },
  {
   "cell_type": "code",
   "execution_count": 45,
   "metadata": {},
   "outputs": [
    {
     "data": {
      "text/plain": [
       "0.9328077194634031"
      ]
     },
     "execution_count": 45,
     "metadata": {},
     "output_type": "execute_result"
    }
   ],
   "source": [
    "1 - (target_test.sum()/target_test.count())"
   ]
  },
  {
   "cell_type": "markdown",
   "metadata": {},
   "source": [
    "### Model Selection\n",
    "\n",
    "Logicistic Regression, Random Forest, AdaBoost, and XGBoost will be evaluated to determine which model to use and improve on."
   ]
  },
  {
   "cell_type": "code",
   "execution_count": 46,
   "metadata": {},
   "outputs": [
    {
     "name": "stderr",
     "output_type": "stream",
     "text": [
      "D:\\Users\\dkim3\\Anaconda3\\lib\\site-packages\\sklearn\\cross_validation.py:41: DeprecationWarning: This module was deprecated in version 0.18 in favor of the model_selection module into which all the refactored classes and functions are moved. Also note that the interface of the new CV iterators are different from that of this module. This module will be removed in 0.20.\n",
      "  \"This module will be removed in 0.20.\", DeprecationWarning)\n"
     ]
    }
   ],
   "source": [
    "# import the machine learning and evaluation metric libraries\n",
    "from sklearn.ensemble import RandomForestClassifier, AdaBoostClassifier\n",
    "from sklearn.linear_model import LogisticRegression\n",
    "from sklearn.metrics import accuracy_score, confusion_matrix, roc_auc_score\n",
    "import xgboost as xgb\n",
    "\n",
    "def print_evaluation_metrics(t_train, p_train, t_test, p_test):\n",
    "    '''\n",
    "    This function takes in the targets and predictions for both the training and testing datasets.\n",
    "    Then the function prints out the evaluation metrics.\n",
    "    \n",
    "    Nothing is returned\n",
    "    '''\n",
    "\n",
    "    baseline_test = (1-(t_test.sum()/t_test.count()))\n",
    "    \n",
    "    acc_train = accuracy_score(t_train, p_train)       \n",
    "    acc_test = accuracy_score(t_test, p_test)\n",
    "    auc_test = roc_auc_score(t_test, p_test)\n",
    "    con_fus_test = confusion_matrix(t_test, p_test)\n",
    "    \n",
    "    print('baseline is ' + str(baseline_test))\n",
    "    print('train accuracy: ' + str(acc_train))\n",
    "    print('test accuracy: ' + str(acc_test))\n",
    "    print('test auc_score: ' + str(auc_test))\n",
    "    print('test confusion matrix: ')\n",
    "    print(con_fus_test)"
   ]
  },
  {
   "cell_type": "code",
   "execution_count": 47,
   "metadata": {},
   "outputs": [
    {
     "name": "stderr",
     "output_type": "stream",
     "text": [
      "D:\\Users\\dkim3\\Anaconda3\\lib\\site-packages\\sklearn\\linear_model\\sag.py:326: ConvergenceWarning: The max_iter was reached which means the coef_ did not converge\n",
      "  \"the coef_ did not converge\", ConvergenceWarning)\n"
     ]
    },
    {
     "name": "stdout",
     "output_type": "stream",
     "text": [
      "Logistic Regression Results:\n",
      "baseline is 0.9328077194634031\n",
      "train accuracy: 0.9328469443790696\n",
      "test accuracy: 0.9322193457284067\n",
      "test auc_score: 0.5049663998345675\n",
      "test confusion matrix: \n",
      "[[15831    23]\n",
      " [ 1129    13]]\n",
      "\n",
      "Random Forest Results:\n",
      "baseline is 0.9328077194634031\n",
      "train accuracy: 0.9866243037577469\n",
      "test accuracy: 0.9320428336079077\n",
      "test auc_score: 0.5056843676658086\n",
      "test confusion matrix: \n",
      "[[15826    28]\n",
      " [ 1127    15]]\n",
      "\n",
      "AdaBoost Results:\n",
      "baseline is 0.9328077194634031\n",
      "train accuracy: 0.932611594885071\n",
      "test accuracy: 0.9325723699694045\n",
      "test auc_score: 0.5071870794732228\n",
      "test confusion matrix: \n",
      "[[15832    22]\n",
      " [ 1124    18]]\n",
      "\n"
     ]
    },
    {
     "name": "stderr",
     "output_type": "stream",
     "text": [
      "D:\\Users\\dkim3\\Anaconda3\\lib\\site-packages\\sklearn\\preprocessing\\label.py:151: DeprecationWarning: The truth value of an empty array is ambiguous. Returning False, but in future this will result in an error. Use `array.size > 0` to check that an array is not empty.\n",
      "  if diff:\n"
     ]
    },
    {
     "name": "stdout",
     "output_type": "stream",
     "text": [
      "XGBoost Results:\n",
      "baseline is 0.9328077194634031\n",
      "train accuracy: 0.9333568682827332\n",
      "test accuracy: 0.9329253942104024\n",
      "test auc_score: 0.5020945285096029\n",
      "test confusion matrix: \n",
      "[[15851     3]\n",
      " [ 1137     5]]\n",
      "\n"
     ]
    },
    {
     "name": "stderr",
     "output_type": "stream",
     "text": [
      "D:\\Users\\dkim3\\Anaconda3\\lib\\site-packages\\sklearn\\preprocessing\\label.py:151: DeprecationWarning: The truth value of an empty array is ambiguous. Returning False, but in future this will result in an error. Use `array.size > 0` to check that an array is not empty.\n",
      "  if diff:\n"
     ]
    }
   ],
   "source": [
    "# log reg\n",
    "lr_model = LogisticRegression(solver = 'saga', random_state=319)\n",
    "lr_model = lr_model.fit(features_train, target_train)\n",
    "\n",
    "pred_train = lr_model.predict(features_train)\n",
    "pred_test = lr_model.predict(features_test)\n",
    "\n",
    "print('Logistic Regression Results:')\n",
    "print_evaluation_metrics(target_train, pred_train, target_test, pred_test)\n",
    "print('')\n",
    "\n",
    "# rf\n",
    "rf_model = RandomForestClassifier()\n",
    "rf_model = rf_model.fit(features_train, target_train)\n",
    "\n",
    "pred_train = rf_model.predict(features_train)\n",
    "pred_test = rf_model.predict(features_test)\n",
    "\n",
    "print('Random Forest Results:')\n",
    "print_evaluation_metrics(target_train, pred_train, target_test, pred_test)\n",
    "print('')\n",
    "\n",
    "# ada\n",
    "ada_model = AdaBoostClassifier()\n",
    "ada_model = ada_model.fit(features_train, target_train)\n",
    "\n",
    "pred_train = ada_model.predict(features_train)\n",
    "pred_test = ada_model.predict(features_test)\n",
    "\n",
    "print('AdaBoost Results:')\n",
    "print_evaluation_metrics(target_train, pred_train, target_test, pred_test)\n",
    "print('')\n",
    "\n",
    "# xgboost\n",
    "\n",
    "xgb_model = xgb.XGBClassifier()\n",
    "xgboost = xgb_model.fit(features_train, target_train)\n",
    "\n",
    "pred_train = xgboost.predict(features_train)\n",
    "pred_test = xgboost.predict(features_test)\n",
    "\n",
    "print('XGBoost Results:')\n",
    "print_evaluation_metrics(target_train, pred_train, target_test, pred_test)\n",
    "print('')"
   ]
  },
  {
   "cell_type": "markdown",
   "metadata": {},
   "source": [
    "Based on the results for the 4 machine learning algorithms, it shows that there is not much improvement in accuracy compared to the baseline and the ROC AUC scores are extremely poor.\n",
    "\n",
    "Test Accuracy Scores\n",
    "Logistic Regression = 0.9322\n",
    "RandomForest = 0.9320\n",
    "AdaBoost = 0.9325\n",
    "XGBoost = 0.9329\n",
    "\n",
    "However, the XGBoost produces the best accuracy in comparison even though the improvement is minor.  It is 0.0001 improvement over the baseline.  XGBoost will be used for further tuning."
   ]
  },
  {
   "cell_type": "markdown",
   "metadata": {},
   "source": [
    "## Methodology - Refinement\n",
    "\n",
    "### Parameter Tuning and Feature Selection\n",
    "\n",
    "The learning rate, depth, and number of estimators will be tuned by running the model using different parameters."
   ]
  },
  {
   "cell_type": "code",
   "execution_count": 49,
   "metadata": {
    "collapsed": true
   },
   "outputs": [],
   "source": [
    "# import the feature selection library\n",
    "from sklearn import feature_selection\n",
    "\n",
    "def tune_xgboost_parameters(features_train, target_train, features_test, target_test, est, lr, depth):\n",
    "    '''\n",
    "    This function takes in the feature and target datasets along with a list of estimators, learning rates, and depth.\n",
    "    This function then runs the model using every combination of estimators, learning rates, and depth and records the accuracy\n",
    "    This function then returns the results in a dataframe along with the predictions for the training and testing datasets\n",
    "    '''\n",
    "    # initalize variables\n",
    "    acc_list_train = []\n",
    "    acc_list_test = []\n",
    "    \n",
    "    est_list = []\n",
    "    lr_list = []\n",
    "    dep_list = []\n",
    "    \n",
    "    n_est = 0\n",
    "    results = pd.DataFrame()\n",
    "\n",
    "    for e in est:\n",
    "        for l in lr:\n",
    "            for d in depth:\n",
    "                xgboost_model = xgb.XGBClassifier(n_estimators = e, learning_rate = l, max_depth = d)#, random_state = 319)\n",
    "                \n",
    "                xgboost_model.fit(features_train, target_train)\n",
    "                pred_test = xgboost_model.predict(features_test)\n",
    "                pred_train = xgboost_model.predict(features_train)\n",
    "                \n",
    "                acc_train = accuracy_score(target_train, pred_train)       \n",
    "                \n",
    "                acc_test = accuracy_score(target_test, pred_test)\n",
    "    \n",
    "                #print (acc_train)\n",
    "                #print (acc_test)\n",
    "                \n",
    "                est_list.append(e)\n",
    "                lr_list.append(l)\n",
    "                dep_list.append(d)\n",
    "                acc_list_train.append(acc_train)\n",
    "                acc_list_test.append(acc_test)\n",
    "    \n",
    "    results = pd.DataFrame(\n",
    "            {'est': est_list,\n",
    "            'lr': lr_list,\n",
    "            'depth': dep_list,\n",
    "            'acc_train': acc_list_train,\n",
    "            'acc_test': acc_list_test\n",
    "            })\n",
    "    \n",
    "    #results.to_csv('results.csv')\n",
    "    return results, pred_train, pred_test\n",
    "\n",
    "def select_xgboost_features(features_train, target_train, features_test, target_test, final_est, final_lr, final_depth, per):\n",
    "    '''\n",
    "    This function takes in the feature and training datasets along with the single value for the estimator, learning rate, and depth.\n",
    "    The per contains the list of percentiles to use for the SelectPercentile function\n",
    "    This function then returns the results in a dataframe along with the predictions for the training and testing datasets\n",
    "    '''\n",
    "    \n",
    "    \n",
    "    acc_list_train = []\n",
    "    acc_list_test = []\n",
    "    \n",
    "    per_list = []\n",
    "    \n",
    "    percentile = per\n",
    "    \n",
    "    # identify the percentile that will produce the best results \n",
    "    for per in percentile:\n",
    "        \n",
    "        # intilaize SelectFromModel using thresh\n",
    "        fs = feature_selection.SelectPercentile(feature_selection.f_classif, percentile = per)\n",
    "        feature_model =  fs.fit(features_train,target_train)\n",
    "    \n",
    "        features_train_new = feature_model.transform(features_train)\n",
    "        features_test_new = feature_model.transform(features_test)\n",
    "    \n",
    "        xgboost_model = xgb.XGBClassifier(n_estimators = final_est, learning_rate = final_lr, max_depth = final_depth)#, random_state = 319)\n",
    "        \n",
    "        xgboost_model.fit(features_train_new, target_train)\n",
    "        pred_test = xgboost_model.predict(features_test_new)\n",
    "        pred_train = xgboost_model.predict(features_train_new)\n",
    "        \n",
    "        acc_train = accuracy_score(target_train, pred_train)       \n",
    "        acc_test = accuracy_score(target_test, pred_test)\n",
    "    \n",
    "        #print (acc_train)\n",
    "        #print (acc_test)\n",
    "        \n",
    "        per_list.append(per)\n",
    "        acc_list_train.append(acc_train)\n",
    "        acc_list_test.append(acc_test)\n",
    "    \n",
    "    per_results = pd.DataFrame(\n",
    "            {'per': per_list,\n",
    "            'acc_train': acc_list_train,\n",
    "            'acc_test': acc_list_test\n",
    "            })\n",
    "    \n",
    "    #per_results.to_csv('per_results.csv')\n",
    "    return per_results, pred_train, pred_test"
   ]
  },
  {
   "cell_type": "markdown",
   "metadata": {
    "collapsed": true
   },
   "source": [
    "### First Model\n",
    "\n",
    "#### Parameter Tuning\n",
    "\n",
    "After running the model through parameter tuning, the best parameters for XGBoost Model was the following:\n",
    "\n",
    "Estimators = 30\n",
    "Learning Rate = 0.1a\n",
    "Depth = 6\n",
    "\n",
    "The testing accuracy improved to 0.9332, which is a slight improvement over the base XGBoost model."
   ]
  },
  {
   "cell_type": "code",
   "execution_count": 50,
   "metadata": {
    "scrolled": false
   },
   "outputs": [
    {
     "name": "stderr",
     "output_type": "stream",
     "text": [
      "D:\\Users\\dkim3\\Anaconda3\\lib\\site-packages\\sklearn\\preprocessing\\label.py:151: DeprecationWarning: The truth value of an empty array is ambiguous. Returning False, but in future this will result in an error. Use `array.size > 0` to check that an array is not empty.\n",
      "  if diff:\n"
     ]
    },
    {
     "name": "stdout",
     "output_type": "stream",
     "text": [
      "0.9347689652467247\n",
      "0.9332784184514004\n",
      "   acc_test  acc_train  depth  est   lr\n",
      "0  0.933278   0.934769      6   30  0.1\n",
      "baseline is 0.9328077194634031\n",
      "train accuracy: 0.9347689652467247\n",
      "test accuracy: 0.9332784184514004\n",
      "test auc_score: 0.5059403705043195\n",
      "test confusion matrix: \n",
      "[[15848     6]\n",
      " [ 1128    14]]\n"
     ]
    },
    {
     "name": "stderr",
     "output_type": "stream",
     "text": [
      "D:\\Users\\dkim3\\Anaconda3\\lib\\site-packages\\sklearn\\preprocessing\\label.py:151: DeprecationWarning: The truth value of an empty array is ambiguous. Returning False, but in future this will result in an error. Use `array.size > 0` to check that an array is not empty.\n",
      "  if diff:\n"
     ]
    }
   ],
   "source": [
    "#est = [10,20,30,40,50,50,100,150,200,500,1000]\n",
    "#lr = [0.1,0.01,0.001,0.0001]\n",
    "#depth = [4,5,6,7,8,9,10]\n",
    "\n",
    "est = [30]\n",
    "lr = [0.1]\n",
    "depth = [6]\n",
    "\n",
    "data_one_tuned_results, data_one_pred_train, data_one_pred_test = tune_xgboost_parameters(features_train, target_train, features_test, target_test, est, lr, depth)\n",
    "print(data_one_tuned_results)\n",
    "\n",
    "print_evaluation_metrics(target_train, data_one_pred_train, target_test, data_one_pred_test)"
   ]
  },
  {
   "cell_type": "markdown",
   "metadata": {},
   "source": [
    "#### Features Selection\n",
    "\n",
    "After running the tuned model through feature selection, the best percentile was the 10th percentile.  However the testing accuracy did not improve."
   ]
  },
  {
   "cell_type": "code",
   "execution_count": 51,
   "metadata": {
    "scrolled": true
   },
   "outputs": [
    {
     "name": "stderr",
     "output_type": "stream",
     "text": [
      "D:\\Users\\dkim3\\Anaconda3\\lib\\site-packages\\sklearn\\feature_selection\\univariate_selection.py:113: UserWarning: Features [  10   11   14   23   38   39   44   58   64   66   75   76   83  101\n",
      "  112  113  142  146  151  161  170  174  197  201  202  204  205  264\n",
      "  265  266  274  277  286  292  309  310  325  331  337  344  355  370\n",
      "  375  377  378  441  453  454  456  461  462  463  465  467  468  486\n",
      "  492  496  519  527  571  580  588  590  592  594  595  606  613  616\n",
      "  618  622  631  637  638  641  649  653  672  676  694  708  713  715\n",
      "  744  755  764  787  791  796  798  821  851  857  864  865  871  875\n",
      "  887  896  903  904  906  908  911  912  924  927  931  952  953  964\n",
      "  970  978  984  996 1002 1004 1005 1019 1022 1025 1028 1041 1053 1054\n",
      " 1065 1075 1081 1099 1102 1117 1146 1151 1158 1164 1171 1182 1198 1200\n",
      " 1203 1211 1218 1223 1226 1232 1235 1240 1247 1254 1255 1258 1260 1261\n",
      " 1277 1286 1289 1292 1300 1319 1321 1338 1343 1349 1353 1363 1367 1368\n",
      " 1370 1375 1376 1378 1384 1395 1397 1403 1405 1436 1440 1445 1447 1448\n",
      " 1449 1471 1479 1485 1490 1497 1501 1525 1529 1532 1539 1545 1547 1550\n",
      " 1551 1553 1554 1558 1559 1560 1577 1589 1595 1608 1612 1619 1629 1633\n",
      " 1638 1648 1652 1677 1679 1682 1684 1689 1690 1694 1700 1705 1710 1721\n",
      " 1723 1730 1731 1736 1747 1749 1750 1756 1758 1760 1766 1767 1769 1774\n",
      " 1782 1792 1793 1794 1800 1801 1804 1805 1815 1818 1819 1854 1855 1860\n",
      " 1867 1870 1873 1874 1889 1896 1897 1906 1913 1914 1917 1919 1920 1923\n",
      " 1931 1936 1940 1942 1943 1945 1948 1949 1950 1955 1972 1978 1980 1984\n",
      " 1987 1991 1997 2003 2018 2019 2020 2022 2025 2031 2037 2040 2044 2045\n",
      " 2057 2063 2064 2067 2068 2108 2143 2145 2150 2151 2154 2163 2169 2171\n",
      " 2177 2178 2179 2189 2198 2202 2210 2212 2216 2223 2224 2225 2228 2236\n",
      " 2241 2242 2244 2255 2264 2267 2268 2278 2282 2288 2290 2297 2300 2303\n",
      " 2304 2320 2330 2333 2349 2357 2368 2384 2395 2396 2397 2398 2414 2415\n",
      " 2419 2429 2431 2435 2437 2438 2440 2448 2458 2473 2475 2478 2480 2481\n",
      " 2483 2486 2488 2489 2492 2493 2498 2505 2506 2508 2517 2531 2534 2541\n",
      " 2546 2551 2555 2557 2570 2571 2573 2580 2588 2593 2595 2598 2603 2604\n",
      " 2606 2607 2608 2618 2619 2625 2627 2629 2645 2650 2656 2662 2665 2666\n",
      " 2669 2675 2676 2677 2679 2680 2687 2692 2696 2700 2701 2714 2726 2731\n",
      " 2733 2751 2760 2763 2775 2777 2781 2782 2795 2798 2799 2802 2808 2809\n",
      " 2810 2817 2822 2829 2830 2833 2841 2853 2885 2886 2887 2888 2893 2900\n",
      " 2907 2911 2913 2927 2929 2938 2939 2940 2941 2946 2948 2954 2958 2980\n",
      " 2991 3002 3010 3011 3013 3036 3038 3040 3046 3052 3065 3066 3068 3069\n",
      " 3080 3091 3097 3110 3124 3128 3134 3139 3141 3142 3147 3160 3170 3175\n",
      " 3177 3178 3180 3192 3198 3212 3224 3244 3246 3247 3248 3251 3258 3259\n",
      " 3263 3264 3268 3270 3278 3282 3283 3287 3301 3303 3308 3313 3334 3335\n",
      " 3339 3340 3345 3353 3354 3363 3368 3371 3382 3385 3388 3395 3399 3401\n",
      " 3407 3410 3417 3418 3420 3443 3444 3446 3455 3456 3457 3470 3476 3481\n",
      " 3484 3507 3513 3514 3527 3528 3540 3541 3544 3549 3559 3561 3567 3569\n",
      " 3571 3581 3584 3586 3597 3599 3602 3603 3604 3626 3631 3651 3659 3662\n",
      " 3666 3668 3670 3672 3684 3685 3686 3689 3693 3694 3697 3707 3711 3717\n",
      " 3723 3737 3747 3754 3760 3762 3764 3771 3787 3791 3810 3812 3813 3839\n",
      " 3843 3851 3852 3861 3865 3897 3912 3920 3921 3926 3929 3940 3942 3944\n",
      " 3949 3950 3954 3955 3962 3968 3969 3981 3982 3983 3984 3986 3987 3994\n",
      " 3996 3999 4007 4035 4036 4037 4042 4043 4048 4055 4056 4066 4073 4076\n",
      " 4105 4110 4111 4112 4117 4122 4124 4130 4131 4132 4133 4134 4135 4137\n",
      " 4144 4152 4155 4166 4170 4175 4182 4185 4189 4196 4203 4205 4208 4209\n",
      " 4218 4226 4237 4259 4264 4270 4278 4282 4285 4288 4291 4295 4297 4298\n",
      " 4301 4302 4306 4310 4314 4329 4342 4364 4369 4372 4375 4378 4380 4382\n",
      " 4385 4389 4394 4398 4401 4414 4419 4420 4433 4441 4442 4458 4459 4490\n",
      " 4502 4504 4508 4519 4521 4532 4533 4536 4537 4547 4553 4575 4581 4585\n",
      " 4586 4590 4594 4600 4608 4609 4615 4628 4630] are constant.\n",
      "  UserWarning)\n",
      "D:\\Users\\dkim3\\Anaconda3\\lib\\site-packages\\sklearn\\feature_selection\\univariate_selection.py:114: RuntimeWarning: invalid value encountered in true_divide\n",
      "  f = msb / msw\n",
      "D:\\Users\\dkim3\\Anaconda3\\lib\\site-packages\\sklearn\\preprocessing\\label.py:151: DeprecationWarning: The truth value of an empty array is ambiguous. Returning False, but in future this will result in an error. Use `array.size > 0` to check that an array is not empty.\n",
      "  if diff:\n"
     ]
    },
    {
     "name": "stdout",
     "output_type": "stream",
     "text": [
      "0.9346905154153918\n",
      "0.9332195810779007\n",
      "   acc_test  acc_train  per\n",
      "0   0.93322   0.934691   10\n",
      "baseline is 0.9328077194634031\n",
      "train accuracy: 0.9346905154153918\n",
      "test accuracy: 0.9332195810779007\n",
      "test auc_score: 0.5046899609550104\n",
      "test confusion matrix: \n",
      "[[15850     4]\n",
      " [ 1131    11]]\n"
     ]
    },
    {
     "name": "stderr",
     "output_type": "stream",
     "text": [
      "D:\\Users\\dkim3\\Anaconda3\\lib\\site-packages\\sklearn\\preprocessing\\label.py:151: DeprecationWarning: The truth value of an empty array is ambiguous. Returning False, but in future this will result in an error. Use `array.size > 0` to check that an array is not empty.\n",
      "  if diff:\n"
     ]
    }
   ],
   "source": [
    "final_est = 30\n",
    "final_lr = 0.1\n",
    "final_depth = 6\n",
    "\n",
    "#per = range(1,100)\n",
    "per = [82]\n",
    "    \n",
    "data_one_features_selections_results, data_one_pred_train, data_one_pred_test = select_xgboost_features(features_train, target_train, features_test, target_test, final_est, final_lr, final_depth, per)\n",
    "print(data_one_features_selections_results)\n",
    "\n",
    "print_evaluation_metrics(target_train, data_one_pred_train, target_test, data_one_pred_test)"
   ]
  },
  {
   "cell_type": "markdown",
   "metadata": {},
   "source": [
    "### Second Model\n",
    "\n",
    "The second dataset contains main dataset along with the secondary diagnosis and procedures.  This will drastically increase the number of feature variables, but the hope is that it will introduce variables that will positively influence the model.\n",
    "\n",
    "Running the second dataset through the XGBoost model with default parameters, the model produced a testing accuracy of 0.9329."
   ]
  },
  {
   "cell_type": "code",
   "execution_count": 52,
   "metadata": {},
   "outputs": [
    {
     "name": "stderr",
     "output_type": "stream",
     "text": [
      "D:\\Users\\dkim3\\Anaconda3\\lib\\site-packages\\sklearn\\preprocessing\\label.py:151: DeprecationWarning: The truth value of an empty array is ambiguous. Returning False, but in future this will result in an error. Use `array.size > 0` to check that an array is not empty.\n",
      "  if diff:\n"
     ]
    },
    {
     "name": "stdout",
     "output_type": "stream",
     "text": [
      "XGBoost Results:\n",
      "baseline is 0.9328077194634031\n",
      "train accuracy: 0.9333568682827332\n",
      "test accuracy: 0.9329253942104024\n",
      "test auc_score: 0.5020945285096029\n",
      "test confusion matrix: \n",
      "[[15851     3]\n",
      " [ 1137     5]]\n",
      "\n"
     ]
    },
    {
     "name": "stderr",
     "output_type": "stream",
     "text": [
      "D:\\Users\\dkim3\\Anaconda3\\lib\\site-packages\\sklearn\\preprocessing\\label.py:151: DeprecationWarning: The truth value of an empty array is ambiguous. Returning False, but in future this will result in an error. Use `array.size > 0` to check that an array is not empty.\n",
      "  if diff:\n"
     ]
    }
   ],
   "source": [
    "# xgboost\n",
    "\n",
    "xgb_model = xgb.XGBClassifier()\n",
    "xgboost = xgb_model.fit(features_train_two, target_train_two)\n",
    "\n",
    "pred_train = xgboost.predict(features_train_two)\n",
    "pred_test = xgboost.predict(features_test_two)\n",
    "\n",
    "print('XGBoost Results:')\n",
    "print_evaluation_metrics(target_train_two, pred_train, target_test_two, pred_test)\n",
    "print('')"
   ]
  },
  {
   "cell_type": "markdown",
   "metadata": {},
   "source": [
    "#### Parameter Tuning\n",
    "\n",
    "After running the model through parameter tuning, the best parameters for the second model of XGBoost was the following:\n",
    "\n",
    "Estimators = 30\n",
    "Learning Rate = 0.1\n",
    "Depth = 5\n",
    "\n",
    "The testing accuracy improved to 0.9334, which is a slight improvement over the first model."
   ]
  },
  {
   "cell_type": "code",
   "execution_count": 53,
   "metadata": {},
   "outputs": [
    {
     "name": "stderr",
     "output_type": "stream",
     "text": [
      "D:\\Users\\dkim3\\Anaconda3\\lib\\site-packages\\sklearn\\preprocessing\\label.py:151: DeprecationWarning: The truth value of an empty array is ambiguous. Returning False, but in future this will result in an error. Use `array.size > 0` to check that an array is not empty.\n",
      "  if diff:\n"
     ]
    },
    {
     "name": "stdout",
     "output_type": "stream",
     "text": [
      "0.934062916764729\n",
      "0.9333960931983997\n",
      "   acc_test  acc_train  depth  est   lr\n",
      "0  0.933396   0.934063      5   30  0.1\n",
      "baseline is 0.9328077194634031\n",
      "train accuracy: 0.934062916764729\n",
      "test accuracy: 0.9333960931983997\n",
      "test auc_score: 0.5055971554798305\n",
      "test confusion matrix: \n",
      "[[15851     3]\n",
      " [ 1129    13]]\n"
     ]
    },
    {
     "name": "stderr",
     "output_type": "stream",
     "text": [
      "D:\\Users\\dkim3\\Anaconda3\\lib\\site-packages\\sklearn\\preprocessing\\label.py:151: DeprecationWarning: The truth value of an empty array is ambiguous. Returning False, but in future this will result in an error. Use `array.size > 0` to check that an array is not empty.\n",
      "  if diff:\n"
     ]
    }
   ],
   "source": [
    "#est = [10,20,30,40,50,50,100,150,200,500,1000]\n",
    "#lr = [0.1,0.01,0.001,0.0001]\n",
    "#depth = [4,5,6,7,8,9,10]\n",
    "\n",
    "est = [30]\n",
    "lr = [0.1]\n",
    "depth = [5]\n",
    "\n",
    "data_two_tuned_results, data_two_pred_train, data_two_pred_test = tune_xgboost_parameters(features_train_two, target_train_two, features_test_two, target_test_two, est, lr, depth)\n",
    "print(data_two_tuned_results)\n",
    "\n",
    "print_evaluation_metrics(target_train_two, data_two_pred_train, target_test_two, data_two_pred_test)"
   ]
  },
  {
   "cell_type": "markdown",
   "metadata": {},
   "source": [
    "#### Features Selection\n",
    "\n",
    "After running the tuned model through feature selection, the best percentile was the 12th percentile.  \n",
    "\n",
    "The testing accuracy improved to 0.9335, which is another slight increase over the tuned second model."
   ]
  },
  {
   "cell_type": "code",
   "execution_count": 54,
   "metadata": {
    "scrolled": true
   },
   "outputs": [
    {
     "name": "stderr",
     "output_type": "stream",
     "text": [
      "D:\\Users\\dkim3\\Anaconda3\\lib\\site-packages\\sklearn\\feature_selection\\univariate_selection.py:113: UserWarning: Features [  10   11   14   23   38   39   44   58   64   66   75   76   83  101\n",
      "  112  113  142  146  151  161  170  174  197  201  202  204  205  264\n",
      "  265  266  274  277  286  292  309  310  325  331  337  344  355  370\n",
      "  375  377  378  441  453  454  456  461  462  463  465  467  468  486\n",
      "  492  496  519  527  571  580  588  590  592  594  595  606  613  616\n",
      "  618  622  631  637  638  641  649  653  672  676  694  708  713  715\n",
      "  744  755  764  787  791  796  798  821  851  857  864  865  871  875\n",
      "  887  896  903  904  906  908  911  912  924  927  931  952  953  964\n",
      "  970  978  984  996 1002 1004 1005 1019 1022 1025 1028 1041 1053 1054\n",
      " 1065 1075 1081 1099 1102 1117 1146 1151 1158 1164 1171 1182 1198 1200\n",
      " 1203 1211 1218 1223 1226 1232 1235 1240 1247 1254 1255 1258 1260 1261\n",
      " 1277 1286 1289 1292 1300 1319 1321 1338 1343 1349 1353 1363 1367 1368\n",
      " 1370 1375 1376 1378 1384 1395 1397 1403 1405 1436 1440 1445 1447 1448\n",
      " 1449 1471 1479 1485 1490 1497 1501 1525 1529 1532 1539 1545 1547 1550\n",
      " 1551 1553 1554 1558 1559 1560 1577 1589 1595 1608 1612 1619 1629 1633\n",
      " 1638 1648 1652 1677 1679 1682 1684 1689 1690 1694 1700 1705 1710 1721\n",
      " 1723 1730 1731 1736 1747 1749 1750 1756 1758 1760 1766 1767 1769 1774\n",
      " 1782 1792 1793 1794 1800 1801 1804 1805 1815 1818 1819 1854 1855 1860\n",
      " 1867 1870 1873 1874 1889 1896 1897 1906 1913 1914 1917 1919 1920 1923\n",
      " 1931 1936 1940 1942 1943 1945 1948 1949 1950 1955 1972 1978 1980 1984\n",
      " 1987 1991 1997 2003 2018 2019 2020 2022 2025 2031 2037 2040 2044 2045\n",
      " 2057 2063 2064 2067 2068 2108 2143 2145 2150 2151 2154 2163 2169 2171\n",
      " 2177 2178 2179 2189 2198 2202 2210 2212 2216 2223 2224 2225 2228 2236\n",
      " 2241 2242 2244 2255 2264 2267 2268 2278 2282 2288 2290 2297 2300 2303\n",
      " 2304 2320 2330 2333 2349 2357 2368 2384 2395 2396 2397 2398 2414 2415\n",
      " 2419 2429 2431 2435 2437 2438 2440 2448 2458 2473 2475 2478 2480 2481\n",
      " 2483 2486 2488 2489 2492 2493 2498 2505 2506 2508 2517 2531 2534 2541\n",
      " 2546 2551 2555 2557 2570 2571 2573 2580 2588 2593 2595 2598 2603 2604\n",
      " 2606 2607 2608 2618 2619 2625 2627 2629 2645 2650 2656 2662 2665 2666\n",
      " 2669 2675 2676 2677 2679 2680 2687 2692 2696 2700 2701 2714 2726 2731\n",
      " 2733 2751 2760 2763 2775 2777 2781 2782 2795 2798 2799 2802 2808 2809\n",
      " 2810 2817 2822 2829 2830 2833 2841 2853 2885 2886 2887 2888 2893 2900\n",
      " 2907 2911 2913 2927 2929 2938 2939 2940 2941 2946 2948 2954 2958 2980\n",
      " 2991 3002 3010 3011 3013 3036 3038 3040 3046 3052 3065 3066 3068 3069\n",
      " 3080 3091 3097 3110 3124 3128 3134 3139 3141 3142 3147 3160 3170 3175\n",
      " 3177 3178 3180 3192 3198 3212 3224 3244 3246 3247 3248 3251 3258 3259\n",
      " 3263 3264 3268 3270 3278 3282 3283 3287 3301 3303 3308 3313 3334 3335\n",
      " 3339 3340 3345 3353 3354 3363 3368 3371 3382 3385 3388 3395 3399 3401\n",
      " 3407 3410 3417 3418 3420 3443 3444 3446 3455 3456 3457 3470 3476 3481\n",
      " 3484 3507 3513 3514 3527 3528 3540 3541 3544 3549 3559 3561 3567 3569\n",
      " 3571 3581 3584 3586 3597 3599 3602 3603 3604 3626 3631 3651 3659 3662\n",
      " 3666 3668 3670 3672 3684 3685 3686 3689 3693 3694 3697 3707 3711 3717\n",
      " 3723 3737 3747 3754 3760 3762 3764 3771 3787 3791 3810 3812 3813 3839\n",
      " 3843 3851 3852 3861 3865 3897 3912 3920 3921 3926 3929 3940 3942 3944\n",
      " 3949 3950 3954 3955 3962 3968 3969 3981 3982 3983 3984 3986 3987 3994\n",
      " 3996 3999 4007 4035 4036 4037 4042 4043 4048 4055 4056 4066 4073 4076\n",
      " 4105 4110 4111 4112 4117 4122 4124 4130 4131 4132 4133 4134 4135 4137\n",
      " 4144 4152 4155 4166 4170 4175 4182 4185 4189 4196 4203 4205 4208 4209\n",
      " 4218 4226 4237 4259 4264 4270 4278 4282 4285 4288 4291 4295 4297 4298\n",
      " 4301 4302 4306 4310 4314 4329 4342 4364 4369 4372 4375 4378 4380 4382\n",
      " 4385 4389 4394 4398 4401 4414 4419 4420 4433 4441 4442 4458 4459 4490\n",
      " 4502 4504 4508 4519 4521 4532 4533 4536 4537 4547 4553 4575 4581 4585\n",
      " 4586 4590 4594 4600 4608 4609 4615 4628 4630] are constant.\n",
      "  UserWarning)\n",
      "D:\\Users\\dkim3\\Anaconda3\\lib\\site-packages\\sklearn\\feature_selection\\univariate_selection.py:114: RuntimeWarning: invalid value encountered in true_divide\n",
      "  f = msb / msw\n",
      "D:\\Users\\dkim3\\Anaconda3\\lib\\site-packages\\sklearn\\preprocessing\\label.py:151: DeprecationWarning: The truth value of an empty array is ambiguous. Returning False, but in future this will result in an error. Use `array.size > 0` to check that an array is not empty.\n",
      "  if diff:\n"
     ]
    },
    {
     "name": "stdout",
     "output_type": "stream",
     "text": [
      "0.9340236918490625\n",
      "0.9334549305718993\n",
      "   acc_test  acc_train  per\n",
      "0  0.933455   0.934024   12\n",
      "baseline is 0.9328077194634031\n",
      "train accuracy: 0.9340236918490625\n",
      "test accuracy: 0.9334549305718993\n",
      "test auc_score: 0.5056286932620936\n",
      "test confusion matrix: \n",
      "[[15852     2]\n",
      " [ 1129    13]]\n"
     ]
    },
    {
     "name": "stderr",
     "output_type": "stream",
     "text": [
      "D:\\Users\\dkim3\\Anaconda3\\lib\\site-packages\\sklearn\\preprocessing\\label.py:151: DeprecationWarning: The truth value of an empty array is ambiguous. Returning False, but in future this will result in an error. Use `array.size > 0` to check that an array is not empty.\n",
      "  if diff:\n"
     ]
    }
   ],
   "source": [
    "final_est = 30\n",
    "final_lr = 0.1\n",
    "final_depth = 5\n",
    "\n",
    "#per = range(1,100)\n",
    "per = [12]\n",
    "    \n",
    "data_two_features_selections_results, data_two_pred_train, data_two_pred_test = select_xgboost_features(features_train_two, target_train_two, features_test_two, target_test_two, final_est, final_lr, final_depth, per)\n",
    "print(data_two_features_selections_results)\n",
    "\n",
    "print_evaluation_metrics(target_train_two, data_two_pred_train, target_test_two, data_two_pred_test)"
   ]
  },
  {
   "cell_type": "markdown",
   "metadata": {},
   "source": [
    "## Results\n",
    "\n",
    "The best model was the tuned and feature selected the second model.  It produced a testing accuracy of 0.9335.  Compared to the baseline of 0.9328, it is an improvement of 0.0006.  Unfortunately, this model was predictive enough to be useful in a real-world situation.  \n",
    "\n",
    "If there was access to the source system, there could be more features to incorporate to see if a viable prediction model can be produced.  One of the tasks that I would do is clean up the age to ensure that age is always populated.  Another potential task is to clean up the ICD-9 coding that can be used to map all codes.  For the diagnosis codes, there are CCS categories, which are groups of diagnosis codes that can be used to reduce the variables.\n",
    "\n",
    "In conclusion, the final model was a slight improvement over the baseline; however, additional work needs to be done to see if a viable model can be produced."
   ]
  }
 ],
 "metadata": {
  "kernelspec": {
   "display_name": "Python 3",
   "language": "python",
   "name": "python3"
  },
  "language_info": {
   "codemirror_mode": {
    "name": "ipython",
    "version": 3
   },
   "file_extension": ".py",
   "mimetype": "text/x-python",
   "name": "python",
   "nbconvert_exporter": "python",
   "pygments_lexer": "ipython3",
   "version": "3.6.3"
  }
 },
 "nbformat": 4,
 "nbformat_minor": 1
}
